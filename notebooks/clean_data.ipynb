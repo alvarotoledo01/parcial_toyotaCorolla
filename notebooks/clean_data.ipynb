{
 "cells": [
  {
   "cell_type": "code",
   "execution_count": null,
   "id": "7de21a42",
   "metadata": {},
   "outputs": [],
   "source": [
    "import pandas as pd\n",
    "\n",
    "raw_path = \"data/raw_df.csv\"\n",
    "raw_dataset = pd.read_csv(\"data/raw_df.csv\")"
   ]
  },
  {
   "cell_type": "code",
   "execution_count": null,
   "id": "73f028a6",
   "metadata": {},
   "outputs": [],
   "source": [
    "raw_dataset = raw_dataset.drop(columns=[\"Model\"])\n",
    "raw_dataset = pd.get_dummies(raw_dataset)\n",
    "raw_dataset = raw_dataset.apply(pd.to_numeric, errors='coerce')\n",
    "raw_dataset = raw_dataset.astype(float)\n",
    "raw_dataset = raw_dataset.dropna()\n"
   ]
  },
  {
   "cell_type": "code",
   "execution_count": null,
   "id": "bf59e7a7",
   "metadata": {},
   "outputs": [],
   "source": [
    "clean_path = \"data/clean_df.csv\"\n",
    "raw_dataset.to_csv(\"data/clean_df.csv\", index=False)"
   ]
  }
 ],
 "metadata": {
  "kernelspec": {
   "display_name": "parcial_toyota",
   "language": "python",
   "name": "python3"
  },
  "language_info": {
   "codemirror_mode": {
    "name": "ipython",
    "version": 3
   },
   "file_extension": ".py",
   "mimetype": "text/x-python",
   "name": "python",
   "nbconvert_exporter": "python",
   "pygments_lexer": "ipython3",
   "version": "3.11.11"
  }
 },
 "nbformat": 4,
 "nbformat_minor": 5
}
