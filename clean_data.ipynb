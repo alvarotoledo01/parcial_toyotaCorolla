{
 "cells": [
  {
   "cell_type": "markdown",
   "id": "0c6df2ed",
   "metadata": {},
   "source": [
    "# Notebook para Análisis de Precios de Toyota Corolla\n"
   ]
  },
  {
   "cell_type": "markdown",
   "metadata": {},
   "source": [
    "## Carga del dataset\n"
   ]
  },
  {
   "cell_type": "code",
   "execution_count": null,
   "id": "5d55ddd0",
   "metadata": {},
   "outputs": [],
   "source": [
    "import pandas as pd\n",
    "import statsmodels.api as sm\n",
    "import seaborn as sns\n",
    "import numpy as np\n",
    "import matplotlib.pyplot as plt\n",
    "import mlflow"
   ]
  },
  {
   "cell_type": "markdown",
   "id": "fa1d2744",
   "metadata": {},
   "source": [
    "Traemos el dataframe que quedó guardado por el asset anterior\n"
   ]
  },
  {
   "cell_type": "code",
   "execution_count": null,
   "id": "345ac0e6",
   "metadata": {},
   "outputs": [],
   "source": [
    "from pathlib import Path\n",
    "\n",
    "raw_path = Path(\"data/raw_df.csv\").resolve()\n",
    "raw_dataset = pd.read_csv(raw_path)"
   ]
  },
  {
   "cell_type": "markdown",
   "id": "25bd67bf",
   "metadata": {},
   "source": [
    "Hacemos una copia para que nos quede intacto el original por si lo necesitamos para después\n"
   ]
  },
  {
   "cell_type": "code",
   "execution_count": null,
   "id": "9afed403",
   "metadata": {},
   "outputs": [],
   "source": [
    "# Cargar dataset\n",
    "df = raw_dataset.copy()"
   ]
  },
  {
   "cell_type": "markdown",
   "id": "cf9833b7",
   "metadata": {},
   "source": [
    "## Descripción del dataset\n"
   ]
  },
  {
   "cell_type": "markdown",
   "id": "fab4a674",
   "metadata": {},
   "source": [
    "Vamos viendo qué onda este dataset\n"
   ]
  },
  {
   "cell_type": "code",
   "execution_count": null,
   "id": "fbbff4e4",
   "metadata": {},
   "outputs": [],
   "source": [
    "df.shape"
   ]
  },
  {
   "cell_type": "code",
   "execution_count": null,
   "id": "6aa30d84",
   "metadata": {},
   "outputs": [],
   "source": [
    "df.info()"
   ]
  },
  {
   "cell_type": "code",
   "execution_count": null,
   "id": "72997bb0",
   "metadata": {},
   "outputs": [],
   "source": [
    "df.describe().T"
   ]
  },
  {
   "cell_type": "code",
   "execution_count": null,
   "id": "1f1ee54e",
   "metadata": {},
   "outputs": [],
   "source": [
    "df.head(15)"
   ]
  },
  {
   "cell_type": "markdown",
   "id": "257708f2",
   "metadata": {},
   "source": [
    "## EDA\n"
   ]
  },
  {
   "cell_type": "markdown",
   "id": "0bde830e",
   "metadata": {},
   "source": [
    "Vamos viendo que **ID** es un identificador incremental, nos sirve poco y nada realmente. **Cylinders** es constante, su max y su min son 4, no varía. Hay muchas columnas bandera para indicar equipamiento, algo vamos a tener que hacer con eso.\n"
   ]
  },
  {
   "cell_type": "markdown",
   "id": "f2898f5c",
   "metadata": {},
   "source": [
    "Hacemos diferentes gráficos para visualizar las features que nos llamaron la atención\n"
   ]
  },
  {
   "cell_type": "code",
   "execution_count": null,
   "id": "637a8fc2",
   "metadata": {},
   "outputs": [],
   "source": [
    "from utils import barplot_feature\n",
    "\n",
    "\n",
    "barplot_feature(df, \"Cylinders\")"
   ]
  },
  {
   "cell_type": "markdown",
   "id": "c174006f",
   "metadata": {},
   "source": [
    "Id lo revisamos con un histograma\n"
   ]
  },
  {
   "cell_type": "code",
   "execution_count": null,
   "id": "30a66d21",
   "metadata": {},
   "outputs": [],
   "source": [
    "from utils import histogram_feature\n",
    "\n",
    "\n",
    "histogram_feature(df, \"Id\")"
   ]
  },
  {
   "cell_type": "markdown",
   "id": "442d49e1",
   "metadata": {},
   "source": [
    "Efectivamente, no nos sirven en absoluto\n"
   ]
  },
  {
   "cell_type": "markdown",
   "id": "333c112c",
   "metadata": {},
   "source": [
    "Las vamos sacando\n"
   ]
  },
  {
   "cell_type": "code",
   "execution_count": null,
   "id": "311751bb",
   "metadata": {},
   "outputs": [],
   "source": [
    "df = df.drop(columns=[\"Id\", \"Cylinders\"])"
   ]
  },
  {
   "cell_type": "markdown",
   "id": "0762fd34",
   "metadata": {},
   "source": [
    "Veamos qué onda las columnas que son banderas\n"
   ]
  },
  {
   "cell_type": "code",
   "execution_count": null,
   "id": "fe482a26",
   "metadata": {},
   "outputs": [],
   "source": [
    "bool_cols = []\n",
    "for col in df.columns:\n",
    "    uniques = df[col].dropna().unique()\n",
    "    if set(uniques).issubset({0, 1}) and df[col].dtype in [np.int64, np.int32, np.int8]:\n",
    "        bool_cols.append(col)\n",
    "print(bool_cols)"
   ]
  },
  {
   "cell_type": "markdown",
   "id": "e9e975ac",
   "metadata": {},
   "source": [
    "Son varias, no sabemos qué significan\n"
   ]
  },
  {
   "cell_type": "markdown",
   "id": "463d6963",
   "metadata": {},
   "source": [
    "Buscamos en internet qué onda esas features, encontramos esto:\n"
   ]
  },
  {
   "cell_type": "markdown",
   "id": "841b0d4d",
   "metadata": {},
   "source": [
    "1. **Id**\n",
    "   Identificador único de cada vehículo en el dataset.\n",
    "\n",
    "2. **Model**\n",
    "   Versión o acabado del Toyota Corolla (por ejemplo, “Corolla D”, “Corolla GLi”).\n",
    "\n",
    "3. **Price**\n",
    "   Precio de venta del automóvil (en la unidad monetaria del dataset, p. ej., euros u otra).\n",
    "\n",
    "4. **Age_08_04**\n",
    "   Edad del coche, en años, referida al 4 de agosto de 2004 (fecha de corte utilizada para calcular antigüedad).\n",
    "\n",
    "5. **Mfg_Month**\n",
    "   Mes de fabricación del vehículo (1 = enero … 12 = diciembre).\n",
    "\n",
    "6. **Mfg_Year**\n",
    "   Año de fabricación del vehículo.\n",
    "\n",
    "7. **KM**\n",
    "   Kilometraje recorrido por el coche (en kilómetros).\n",
    "\n",
    "8. **Fuel_Type**\n",
    "   Tipo de combustible:\n",
    "\n",
    "   - “Petrol” (gasolina)\n",
    "   - “Diesel” (diésel)\n",
    "   - “CNG” (gas natural comprimido)\n",
    "\n",
    "9. **HP**\n",
    "   Potencia del motor en caballos de fuerza (Horse Power).\n",
    "\n",
    "10. **Met_Color**\n",
    "    Indicador de pintura metálica (1 = sí, 0 = no).\n",
    "\n",
    "11. **Automatic**\n",
    "    Tipo de transmisión (1 = automática, 0 = manual).\n",
    "\n",
    "12. **cc**\n",
    "    Cilindrada del motor en centímetros cúbicos (cm³).\n",
    "\n",
    "13. **Doors**\n",
    "    Número de puertas del vehículo.\n",
    "\n",
    "14. **Cylinders**\n",
    "    Número de cilindros del motor.\n",
    "\n",
    "15. **Gears**\n",
    "    Número de marchas de la transmisión.\n",
    "\n",
    "16. **Quarterly_Tax**\n",
    "    Importe del impuesto de circulación o matriculación que se paga trimestralmente (en la misma unidad monetaria que Price).\n",
    "\n",
    "17. **Weight**\n",
    "    Peso del vehículo en kilogramos.\n",
    "\n",
    "18. **Mfr_Guarantee**\n",
    "    Garantía del fabricante (1 = incluida, 0 = no incluida).\n",
    "\n",
    "19. **BOVAG_Guarantee**\n",
    "    Garantía ofrecida por BOVAG (asociación neerlandesa de concesionarios) (1 = incluida, 0 = no).\n",
    "\n",
    "20. **Guarantee_Period**\n",
    "    Duración de la garantía (en años).\n",
    "\n",
    "21. **ABS**\n",
    "    Sistema antibloqueo de frenos (Anti-lock Braking System) (1 = sí, 0 = no).\n",
    "\n",
    "22. **Airbag_1**\n",
    "    Airbag para el conductor (1 = sí, 0 = no).\n",
    "\n",
    "23. **Airbag_2**\n",
    "    Airbag para el pasajero delantero (1 = sí, 0 = no).\n",
    "\n",
    "24. **Airco**\n",
    "    Aire acondicionado (1 = sí, 0 = no).\n",
    "\n",
    "25. **Automatic_airco**\n",
    "    Control automático de la temperatura (climatizador) (1 = sí, 0 = no).\n",
    "\n",
    "26. **Boardcomputer**\n",
    "    Ordenador de a bordo (display con información de viaje, consumo, etc.) (1 = sí, 0 = no).\n",
    "\n",
    "27. **CD_Player**\n",
    "    Reproductor de CD (1 = sí, 0 = no).\n",
    "\n",
    "28. **Central_Lock**\n",
    "    Cierre centralizado de puertas (1 = sí, 0 = no).\n",
    "\n",
    "29. **Powered_Windows**\n",
    "    Elevalunas eléctricos (1 = sí, 0 = no).\n",
    "\n",
    "30. **Power_Steering**\n",
    "    Dirección asistida (1 = sí, 0 = no).\n",
    "\n",
    "31. **Radio**\n",
    "    Radio estándar (1 = sí, 0 = no).\n",
    "\n",
    "32. **Mistlamps**\n",
    "    Faros antiniebla (1 = sí, 0 = no).\n",
    "\n",
    "33. **Sport_Model**\n",
    "    Edición deportiva del modelo (1 = sí, 0 = no).\n",
    "\n",
    "34. **Backseat_Divider**\n",
    "    Separador o consola entre asientos traseros (1 = sí, 0 = no).\n",
    "\n",
    "35. **Metallic_Rim**\n",
    "    Llantas de aleación metálica (1 = sí, 0 = no).\n",
    "\n",
    "36. **Radio_cassette**\n",
    "    Radio con reproductor de casete (1 = sí, 0 = no).\n",
    "\n",
    "37. **Tow_Bar**\n",
    "    Enganche de remolque o bola de remolque (1 = sí, 0 = no).\n"
   ]
  },
  {
   "cell_type": "markdown",
   "id": "b8b2c843",
   "metadata": {},
   "source": [
    "Veamos qué peso tienen sobre la variable objetivo, podemos hacer una matriz de correlación solamente de las banderas, a ver si son importantes\n"
   ]
  },
  {
   "cell_type": "code",
   "execution_count": null,
   "id": "d44785d0",
   "metadata": {},
   "outputs": [],
   "source": [
    "from utils import show_correlation_matrix\n",
    "\n",
    "\n",
    "matrix = show_correlation_matrix(df[bool_cols + [\"Price\"]])"
   ]
  },
  {
   "cell_type": "markdown",
   "id": "5e83216e",
   "metadata": {},
   "source": [
    "Lo primero que llama la atención es la correlación tan fuerte que existe entre radio y radio_cassette. Tiene sentido. Nos podemos quedar con una nomás, ambas tienen el mismo peso sobre Price.\n"
   ]
  },
  {
   "cell_type": "code",
   "execution_count": null,
   "id": "b8f48df7",
   "metadata": {
    "vscode": {
     "languageId": "ruby"
    }
   },
   "outputs": [],
   "source": [
    "# Contar filas donde Radio y Radio_cassette difieren\n",
    "diferentes = (df[\"Radio\"] != df[\"Radio_cassette\"]).sum()\n",
    "print(f\"Número de filas con valores distintos entre 'Radio' y 'Radio_cassette': {diferentes}\")\n",
    "print(f\"Número de filas con valores iguales entre 'Radio' y 'Radio_cassette': {len(df) - diferentes}\")"
   ]
  },
  {
   "cell_type": "markdown",
   "id": "668ab9eb",
   "metadata": {},
   "source": [
    "Prácticamente siempre que hay radio hay radio cassette, borramos una\n"
   ]
  },
  {
   "cell_type": "code",
   "execution_count": null,
   "id": "3d256c33",
   "metadata": {
    "vscode": {
     "languageId": "ruby"
    }
   },
   "outputs": [],
   "source": [
    "df = df.drop(columns=[\"Radio_cassette\"])"
   ]
  },
  {
   "cell_type": "markdown",
   "id": "f174dada",
   "metadata": {},
   "source": [
    "Siguen habiendo otras correlaciones más débiles, capaz vale la pena tratarlas.\n"
   ]
  },
  {
   "cell_type": "markdown",
   "id": "7a25efdf",
   "metadata": {},
   "source": [
    "Seguimos mirando las variables\n"
   ]
  },
  {
   "cell_type": "code",
   "execution_count": null,
   "id": "b1ffd007",
   "metadata": {},
   "outputs": [],
   "source": [
    "df.describe().T"
   ]
  },
  {
   "cell_type": "markdown",
   "id": "a4ef18c1",
   "metadata": {},
   "source": [
    "El mes de manufactura no debería servir así como está planteado, lo verificamos:\n"
   ]
  },
  {
   "cell_type": "code",
   "execution_count": null,
   "id": "9281e9f8",
   "metadata": {},
   "outputs": [],
   "source": [
    "matrix = show_correlation_matrix(df[[\"Mfg_Month\", \"Mfg_Year\", \"Age_08_04\", \"Price\"]])"
   ]
  },
  {
   "cell_type": "markdown",
   "id": "8e209503",
   "metadata": {},
   "source": [
    "Como sospechábamos, el mes por sí solo no tiene ningún peso sobre el precio. Y columnas como año y edad son mucho más importantes. Nos deshacemos de la columna mes, no hay nada que rescatarle.\n"
   ]
  },
  {
   "cell_type": "code",
   "execution_count": null,
   "id": "bcee3ac3",
   "metadata": {},
   "outputs": [],
   "source": [
    "df = df.drop(columns=[\"Mfg_Month\"])"
   ]
  },
  {
   "cell_type": "markdown",
   "id": "0f2ca9cb",
   "metadata": {},
   "source": [
    "Vamos explorando otro lado, veamos lo de automatic\n"
   ]
  },
  {
   "cell_type": "markdown",
   "id": "b6378bf1",
   "metadata": {},
   "source": [
    "Empezamos con un histograma, para ver cómo está distribuida esta clase\n"
   ]
  },
  {
   "cell_type": "code",
   "execution_count": null,
   "id": "0fd62b98",
   "metadata": {},
   "outputs": [],
   "source": [
    "barplot_feature(df, \"Automatic\")"
   ]
  },
  {
   "cell_type": "code",
   "execution_count": null,
   "id": "ec11c568",
   "metadata": {},
   "outputs": [],
   "source": [
    "# Calcular porcentaje de filas con Automatic igual a 1 (True) y 0 (False)\n",
    "total = len(df)\n",
    "pct_true = (df[\"Automatic\"] == 1).sum() / total * 100\n",
    "pct_false = (df[\"Automatic\"] == 0).sum() / total * 100\n",
    "\n",
    "print(f\"Porcentaje con Automatic=True: {pct_true:.2f}%\")\n",
    "print(f\"Porcentaje con Automatic=False: {pct_false:.2f}%\")"
   ]
  },
  {
   "cell_type": "code",
   "execution_count": null,
   "id": "90f15ac5",
   "metadata": {},
   "outputs": [],
   "source": [
    "from utils import scatter_feature, violinplot_feature\n",
    "\n",
    "\n",
    "violinplot_feature(df, \"Automatic\")"
   ]
  },
  {
   "cell_type": "markdown",
   "id": "df322ff6",
   "metadata": {},
   "source": [
    "Veamos de qué año son los automáticos, capaz por edad valen menos\n"
   ]
  },
  {
   "cell_type": "code",
   "execution_count": null,
   "id": "dd46933d",
   "metadata": {
    "vscode": {
     "languageId": "javascript"
    }
   },
   "outputs": [],
   "source": [
    "precio_promedio_automaticos = df[df[\"Automatic\"] == 1].groupby(\"Mfg_Year\")[\"Price\"].mean().sort_index()\n",
    "precio_promedio_no_automaticos = df[df[\"Automatic\"] == 0].groupby(\"Mfg_Year\")[\"Price\"].mean().sort_index()\n",
    "precios_promedio = pd.DataFrame({\n",
    "    \"Automático\": precio_promedio_automaticos,\n",
    "    \"Manual\": precio_promedio_no_automaticos\n",
    "})\n",
    "\n",
    "print(precios_promedio)"
   ]
  },
  {
   "cell_type": "markdown",
   "id": "449ebc54",
   "metadata": {},
   "source": [
    "Bueno, algo de influencia se ve, alrededor de mil dólares más.\n"
   ]
  },
  {
   "cell_type": "markdown",
   "id": "150004c2",
   "metadata": {},
   "source": [
    "Pero la clase está muy desbalanceada, veremos más adelante si vale la pena rescatar esta feature.\n"
   ]
  },
  {
   "cell_type": "markdown",
   "id": "317e6fba",
   "metadata": {},
   "source": [
    "Y por el violin plot podemos ver que en todos los quintiles de precio siguen siendo mayoría los autos manuales (Automatic=0), no le encontramos valor sifnificativo a la variable Automatic. Echamos un último vistazo a la matriz de correlación que hicimos arriba.\n"
   ]
  },
  {
   "cell_type": "code",
   "execution_count": null,
   "id": "b99e138a",
   "metadata": {
    "vscode": {
     "languageId": "javascript"
    }
   },
   "outputs": [],
   "source": [
    "df = df.drop(columns=[\"Automatic\"])"
   ]
  },
  {
   "cell_type": "markdown",
   "id": "d4f13a4c",
   "metadata": {},
   "source": [
    "Aquí queremos ver si existen features que sean iguales entre sí, es decir si tienen todas el mismo valor 1 al mismo tiempo, y ver si se puede crear otra feature a partir de ellas\n"
   ]
  },
  {
   "cell_type": "code",
   "execution_count": null,
   "id": "a9881854",
   "metadata": {},
   "outputs": [],
   "source": [
    "from collections import defaultdict\n",
    "\n",
    "# Calculamos bools cols devuelta porque ya borramos cosas antes\n",
    "bool_cols = []\n",
    "for col in df.columns:\n",
    "    uniques = df[col].dropna().unique()\n",
    "    if set(uniques).issubset({0, 1}) and df[col].dtype in [np.int64, np.int32, np.int8]:\n",
    "        bool_cols.append(col)\n",
    "\n",
    "groups = defaultdict(list)\n",
    "for col in bool_cols:\n",
    "    key = tuple(df[col].fillna(-1))\n",
    "    groups[key].append(col)\n",
    "\n",
    "duplicate_groups = [cols for cols in groups.values() if len(cols) > 1]\n",
    "\n",
    "if duplicate_groups:\n",
    "    print(\"Las siguientes columnas binarias son idénticas en todas las filas:\")\n",
    "    for group in duplicate_groups:\n",
    "        print(\"  -\", \", \".join(group))\n",
    "else:\n",
    "    print(\"No se encontraron columnas binarias idénticas entre sí.\")"
   ]
  },
  {
   "cell_type": "markdown",
   "id": "01186ed6",
   "metadata": {},
   "source": [
    "Bueno a primera vista no hay observaciones con todas las banderas con el mismo valor, más adelante vamos a seguir viendo esto.\n"
   ]
  },
  {
   "cell_type": "markdown",
   "id": "29ca7d79",
   "metadata": {},
   "source": [
    "Le peguemos un vistazo a met_color a ver en qué consiste\n"
   ]
  },
  {
   "cell_type": "code",
   "execution_count": null,
   "id": "bc1d6375",
   "metadata": {},
   "outputs": [],
   "source": [
    "from utils import barplot_features_batch, histogram_by_batch\n",
    "\n",
    "\n",
    "cols = [\"Met_Color\", \"Sport_Model\", \"Mistlamps\"]\n",
    "\n",
    "barplot_features_batch(df, cols)"
   ]
  },
  {
   "cell_type": "code",
   "execution_count": null,
   "id": "a32f27da",
   "metadata": {},
   "outputs": [],
   "source": [
    "from utils import violinplot_features_batch\n",
    "\n",
    "\n",
    "violinplot_features_batch(df, cols)"
   ]
  },
  {
   "cell_type": "markdown",
   "id": "2ff7accd",
   "metadata": {},
   "source": [
    "La variable Year tenía apenas más correlación con el precio que Age en meses, pensamos en armar un age expresado en años para tener esa mayor correlación y reducir la escala de ese dato\n"
   ]
  },
  {
   "cell_type": "code",
   "execution_count": null,
   "id": "43295efe",
   "metadata": {},
   "outputs": [],
   "source": [
    "df[\"Age_in_Years_08_04\"] = (df[\"Age_08_04\"] / 12).astype(int)\n",
    "barplot_feature(df, \"Age_in_Years_08_04\")\n",
    "histogram_feature(df, \"Age_in_Years_08_04\")\n",
    "violinplot_feature(df, \"Age_in_Years_08_04\")"
   ]
  },
  {
   "cell_type": "code",
   "execution_count": null,
   "id": "616e82bc",
   "metadata": {},
   "outputs": [],
   "source": [
    "matrix = show_correlation_matrix(df[[\"Age_in_Years_08_04\", \"Age_08_04\", \"Price\"]])"
   ]
  },
  {
   "cell_type": "markdown",
   "id": "34ee252b",
   "metadata": {},
   "source": [
    "Sigue teniendo más correlación Age en meses\n"
   ]
  },
  {
   "cell_type": "markdown",
   "id": "da7d99a5",
   "metadata": {},
   "source": [
    "De momento descartamos esto de expresar age de otra forma\n"
   ]
  },
  {
   "cell_type": "markdown",
   "id": "a01f4c83",
   "metadata": {},
   "source": [
    "Las columnas binarias son muchas, y no agregan mucho valor por sí solas\n"
   ]
  },
  {
   "cell_type": "code",
   "execution_count": null,
   "id": "063381d2",
   "metadata": {},
   "outputs": [],
   "source": [
    "bool_cols"
   ]
  },
  {
   "cell_type": "markdown",
   "id": "02c167bb",
   "metadata": {},
   "source": [
    "Veamos la correlación que tiene cada una\n"
   ]
  },
  {
   "cell_type": "code",
   "execution_count": null,
   "id": "1d768794",
   "metadata": {},
   "outputs": [],
   "source": [
    "matrix = show_correlation_matrix(df[bool_cols + [\"Price\"]])"
   ]
  },
  {
   "cell_type": "markdown",
   "id": "af1b626e",
   "metadata": {},
   "source": [
    "De todas esas boolenas, algunas podemos considerarlas como equipamiento\n"
   ]
  },
  {
   "cell_type": "code",
   "execution_count": null,
   "id": "749bbdbc",
   "metadata": {},
   "outputs": [],
   "source": [
    "equipment_cols = [\n",
    "    \"ABS\",\n",
    "    \"Airbag_1\",\n",
    "    \"Airbag_2\",\n",
    "    \"Airco\",\n",
    "    \"Automatic_airco\",\n",
    "    \"Boardcomputer\",\n",
    "    \"CD_Player\",\n",
    "    \"Central_Lock\",\n",
    "    \"Powered_Windows\",\n",
    "    \"Power_Steering\",\n",
    "    \"Radio\",\n",
    "    \"Mistlamps\",\n",
    "    \"Backseat_Divider\",\n",
    "    \"Tow_Bar\",\n",
    "]"
   ]
  },
  {
   "cell_type": "markdown",
   "id": "fa35ce06",
   "metadata": {},
   "source": [
    "Vemos qué tal están distribuidas estas variables\n"
   ]
  },
  {
   "cell_type": "code",
   "execution_count": null,
   "id": "4bd31b5e",
   "metadata": {},
   "outputs": [],
   "source": [
    "barplot_features_batch(df, equipment_cols)"
   ]
  },
  {
   "cell_type": "markdown",
   "id": "8b87d3c2",
   "metadata": {},
   "source": [
    "Esto es el primer experimento, probamos hacer la suma ponderada de las ocurrencias de los equipamientos con su correlación con la variable objetivo.\n"
   ]
  },
  {
   "cell_type": "code",
   "execution_count": null,
   "metadata": {
    "vscode": {
     "languageId": "ruby"
    }
   },
   "outputs": [],
   "source": [
    "correlations = df[equipment_cols + [\"Price\"]].corr()[\"Price\"].abs().drop(\"Price\")\n",
    "weights = correlations / correlations.sum()\n",
    "df[\"Equipment_Score\"] = df[equipment_cols].mul(weights).sum(axis=1)"
   ]
  },
  {
   "cell_type": "code",
   "execution_count": null,
   "id": "e90c4338",
   "metadata": {},
   "outputs": [],
   "source": [
    "matrix = show_correlation_matrix(df[[\"Equipment_Score\", \"Price\"]])"
   ]
  },
  {
   "cell_type": "code",
   "execution_count": null,
   "id": "0421fe07",
   "metadata": {},
   "outputs": [],
   "source": [
    "from utils import boxplot_feature\n",
    "\n",
    "\n",
    "boxplot_feature(df, \"Equipment_Score\")"
   ]
  },
  {
   "cell_type": "code",
   "execution_count": null,
   "id": "fd008c00",
   "metadata": {},
   "outputs": [],
   "source": [
    "scatter_feature(df, \"Equipment_Score\")"
   ]
  },
  {
   "cell_type": "code",
   "execution_count": null,
   "id": "5b48aff2",
   "metadata": {},
   "outputs": [],
   "source": [
    "histogram_feature(df, \"Equipment_Score\", bins=100)"
   ]
  },
  {
   "cell_type": "code",
   "execution_count": null,
   "id": "9f1323ff",
   "metadata": {},
   "outputs": [],
   "source": [
    "violinplot_feature(df, \"Equipment_Score\")"
   ]
  },
  {
   "cell_type": "markdown",
   "id": "b08efc4e",
   "metadata": {},
   "source": [
    "Tratamos de crear otra feature, una que directamente cuente los equipamientos\n"
   ]
  },
  {
   "cell_type": "code",
   "execution_count": null,
   "id": "574a6db1",
   "metadata": {},
   "outputs": [],
   "source": [
    "df[\"Equipment_Count\"] = df[equipment_cols].sum(axis=1)\n",
    "df[\"Equipment_Count\"].plot(kind=\"box\", figsize=(10, 5))"
   ]
  },
  {
   "cell_type": "code",
   "execution_count": null,
   "id": "c57aa522",
   "metadata": {},
   "outputs": [],
   "source": [
    "scatter_feature(df, \"Equipment_Count\")"
   ]
  },
  {
   "cell_type": "code",
   "execution_count": null,
   "id": "6ba1a1bc",
   "metadata": {},
   "outputs": [],
   "source": [
    "histogram_feature(df, \"Equipment_Count\")"
   ]
  },
  {
   "cell_type": "markdown",
   "id": "433c9b8f",
   "metadata": {},
   "source": [
    "Probemos otra cosa, una feature que se fija si el auto tiene equipamiento premium. Del conocimiento del dominio, equipamiento premium sería climatizador, computadora a bordo\n"
   ]
  },
  {
   "cell_type": "code",
   "execution_count": null,
   "id": "db381251",
   "metadata": {},
   "outputs": [],
   "source": [
    "df[\"Premium_Equipment\"] = df[\"Automatic_airco\"] | df[\"Boardcomputer\"]"
   ]
  },
  {
   "cell_type": "code",
   "execution_count": null,
   "id": "2ee33b08",
   "metadata": {},
   "outputs": [],
   "source": [
    "matrix = show_correlation_matrix(\n",
    "    df[[\"Premium_Equipment\", \"Equipment_Count\", \"Equipment_Score\", \"Price\"]]\n",
    ")"
   ]
  },
  {
   "cell_type": "code",
   "execution_count": null,
   "id": "a632f8e4",
   "metadata": {},
   "outputs": [],
   "source": [
    "violinplot_feature(df, \"Premium_Equipment\")"
   ]
  },
  {
   "cell_type": "markdown",
   "id": "e13c0fb6",
   "metadata": {},
   "source": [
    "Veamos cómo se distribuye premium equipment\n"
   ]
  },
  {
   "cell_type": "code",
   "execution_count": null,
   "id": "2f4fea35",
   "metadata": {},
   "outputs": [],
   "source": [
    "barplot_feature(df, \"Premium_Equipment\")"
   ]
  },
  {
   "cell_type": "markdown",
   "id": "2497eeca",
   "metadata": {},
   "source": [
    "Está sesgado a la izquierda **Equipment_Score**, lo cuál es una pena porque tenemos 0,68 de correlación.\n"
   ]
  },
  {
   "cell_type": "markdown",
   "id": "b303bc11",
   "metadata": {},
   "source": [
    "Y su scatter plot\n"
   ]
  },
  {
   "cell_type": "code",
   "execution_count": null,
   "id": "dd0aa4cb",
   "metadata": {},
   "outputs": [],
   "source": [
    "scatter_feature(df, \"Equipment_Score\")"
   ]
  },
  {
   "cell_type": "markdown",
   "id": "b0a115b2",
   "metadata": {},
   "source": [
    "Creemos que al principio, cuantos más equipamientos mejor, pero cuando ya se tiene una cierta base, se estabiliza el precio un poco, por el scatter plot creemos que una exponencial se ajustaría mejor\n"
   ]
  },
  {
   "cell_type": "markdown",
   "id": "7ee198ff",
   "metadata": {},
   "source": [
    "Veamos si con una transformación de raiz cuadrada podemos forzar su distribución a parecerse más a una normal\n"
   ]
  },
  {
   "cell_type": "code",
   "execution_count": null,
   "id": "1e3f60fc",
   "metadata": {},
   "outputs": [],
   "source": [
    "df[\"Equip_Score_sqrt\"] = np.sqrt(df[\"Equipment_Score\"])"
   ]
  },
  {
   "cell_type": "code",
   "execution_count": null,
   "id": "a7385943",
   "metadata": {},
   "outputs": [],
   "source": [
    "from utils import boxplot_feature\n",
    "\n",
    "\n",
    "histogram_feature(df, \"Equip_Score_sqrt\")\n",
    "boxplot_feature(df, \"Equip_Score_sqrt\")\n",
    "violinplot_feature(df, \"Equip_Score_sqrt\")"
   ]
  },
  {
   "cell_type": "code",
   "execution_count": null,
   "id": "9239600d",
   "metadata": {},
   "outputs": [],
   "source": [
    "matrix = show_correlation_matrix(df[[\"Equip_Score_sqrt\", \"Price\"]])"
   ]
  },
  {
   "cell_type": "code",
   "execution_count": null,
   "id": "34fa0014",
   "metadata": {},
   "outputs": [],
   "source": [
    "def tag_equipment(score):\n",
    "    if score <= 0.2:\n",
    "        return \"Bajo\"\n",
    "    elif score <= 0.6:\n",
    "        return \"Medio\"\n",
    "    else:\n",
    "        return \"Alto\"\n",
    "\n",
    "\n",
    "df[\"Equipment_Level\"] = df[\"Equipment_Score\"].apply(tag_equipment)\n",
    "\n",
    "dummies = pd.get_dummies(df[\"Equipment_Level\"], prefix=\"Equip_Level\").astype(int)\n",
    "df = pd.concat([df, dummies], axis=1)"
   ]
  },
  {
   "cell_type": "code",
   "execution_count": null,
   "id": "ac16df1c",
   "metadata": {},
   "outputs": [],
   "source": [
    "matrix = show_correlation_matrix(\n",
    "    df[[\"Equip_Level_Bajo\", \"Equip_Level_Medio\", \"Equip_Level_Alto\", \"Price\"]]\n",
    ")"
   ]
  },
  {
   "cell_type": "markdown",
   "id": "5716d62b",
   "metadata": {},
   "source": [
    "Puede que Equip_Level_Alto tenga alguna utilidad\n"
   ]
  },
  {
   "cell_type": "markdown",
   "id": "c29d980b",
   "metadata": {},
   "source": [
    "Veamos cómo está distribuida\n"
   ]
  },
  {
   "cell_type": "code",
   "execution_count": null,
   "id": "07982d08",
   "metadata": {},
   "outputs": [],
   "source": [
    "equip_levels = [\"Equip_Level_Bajo\", \"Equip_Level_Medio\", \"Equip_Level_Alto\"]\n",
    "\n",
    "barplot_features_batch(df, equip_levels)"
   ]
  },
  {
   "cell_type": "markdown",
   "id": "927c4abc",
   "metadata": {},
   "source": [
    "Nada útil. Vamos descartando nuestros intentos\n"
   ]
  },
  {
   "cell_type": "code",
   "execution_count": null,
   "id": "086d6265",
   "metadata": {},
   "outputs": [],
   "source": [
    "df = df.drop(\n",
    "    columns=equip_levels + [\"Equipment_Level\", \"Equipment_Score\", \"Premium_Equipment\"]\n",
    ")"
   ]
  },
  {
   "cell_type": "markdown",
   "id": "06981506",
   "metadata": {},
   "source": [
    "Con todo, vemos qué tenemos hasta el momento\n"
   ]
  },
  {
   "cell_type": "code",
   "execution_count": null,
   "id": "0d83355b",
   "metadata": {},
   "outputs": [],
   "source": [
    "matrix = show_correlation_matrix(df)"
   ]
  },
  {
   "cell_type": "markdown",
   "id": "ae16f766",
   "metadata": {},
   "source": [
    "Hay una feature para indicar si tiene un tipo de garantía, otra feature para indicar que tiene del otro tipo de garantía, y otra feature más que indica qué período de garantía.\n"
   ]
  },
  {
   "cell_type": "code",
   "execution_count": null,
   "id": "dcf40f4a",
   "metadata": {},
   "outputs": [],
   "source": [
    "mask = (\n",
    "    (df[\"BOVAG_Guarantee\"] == 0)\n",
    "    & (df[\"Mfr_Guarantee\"] == 0)\n",
    "    & (df[\"Guarantee_Period\"] != 0)\n",
    ")\n",
    "df.loc[mask, [\"BOVAG_Guarantee\", \"Mfr_Guarantee\", \"Guarantee_Period\"]]"
   ]
  },
  {
   "cell_type": "code",
   "execution_count": null,
   "id": "ad87d98b",
   "metadata": {},
   "outputs": [],
   "source": [
    "df[\"Has_Guarantee\"] = (df[\"BOVAG_Guarantee\"] == 1) | (df[\"Mfr_Guarantee\"] == 1)"
   ]
  },
  {
   "cell_type": "code",
   "execution_count": null,
   "id": "113d12ed",
   "metadata": {},
   "outputs": [],
   "source": [
    "df[\"Has_Guarantee\"].value_counts()"
   ]
  },
  {
   "cell_type": "code",
   "execution_count": null,
   "id": "1289fd26",
   "metadata": {},
   "outputs": [],
   "source": [
    "df[\"True_Guarantee_Period\"] = (\n",
    "    df[\"Guarantee_Period\"].where(df[\"Has_Guarantee\"], other=0).astype(int)\n",
    ")"
   ]
  },
  {
   "cell_type": "code",
   "execution_count": null,
   "id": "34e3f842",
   "metadata": {},
   "outputs": [],
   "source": [
    "df[\"True_Guarantee_Period\"].value_counts()"
   ]
  },
  {
   "cell_type": "markdown",
   "metadata": {},
   "source": [
    "Esta exploración de Garantías no nos llevó a ningún lado.\n"
   ]
  },
  {
   "cell_type": "markdown",
   "id": "c20b4a9a",
   "metadata": {},
   "source": [
    "**Airco** está muy balanceada, podría sernos útil. Veamos el gráfico de violín para entender mejor el impacto de estos equipamientos en los diferentes quintiles de precio.\n"
   ]
  },
  {
   "cell_type": "code",
   "execution_count": null,
   "id": "0c418124",
   "metadata": {},
   "outputs": [],
   "source": [
    "violinplot_feature(df, \"Airco\")"
   ]
  },
  {
   "cell_type": "markdown",
   "id": "8a201299",
   "metadata": {},
   "source": [
    "Lo vemos muy positivo a Airco. Está bien distribuido, se le ve impacto en los quintiles, tiene 0,43 de correlación (de momento). Muy positivo.\n"
   ]
  },
  {
   "cell_type": "markdown",
   "id": "d4a1a315",
   "metadata": {},
   "source": [
    "Investiguemos Boardcomputer, porque tiene una correlación alta de 0,60 (de momento).\n"
   ]
  },
  {
   "cell_type": "code",
   "execution_count": null,
   "id": "abe94726",
   "metadata": {},
   "outputs": [],
   "source": [
    "violinplot_feature(df, \"Boardcomputer\")"
   ]
  },
  {
   "cell_type": "markdown",
   "id": "39826c8a",
   "metadata": {},
   "source": [
    "**Boardcomputer** vemos que explica bien el Price, en quintiles bajos es muy frecuente su ausencia, y en quintiles altos domina su presencia. Está desbalanceada lametablemente. Veremos si la podemos rescatar un poco.\n"
   ]
  },
  {
   "cell_type": "markdown",
   "id": "32c6f3cf",
   "metadata": {},
   "source": [
    "Observamos que tienen una alta correlación las variables Central_Lock y Powered_Windows. Por lo que entendemos del problema, creemos que ambas características tienen sentido en conjunto, por ejemplo en aquellos autos en los que al bloquearlos con el cierre centralizado automáticamente levantan los vidrios si es que estaban bajados.\n"
   ]
  },
  {
   "cell_type": "markdown",
   "id": "d7feffe9",
   "metadata": {},
   "source": [
    "Veamos si esto sucede y con qué frecuencia:\n"
   ]
  },
  {
   "cell_type": "code",
   "execution_count": null,
   "id": "d28c2520",
   "metadata": {},
   "outputs": [],
   "source": [
    "# Contar filas donde Powered_Windows = 1 y Central_Lock = 0\n",
    "pw_sin_cl = ((df[\"Powered_Windows\"] == 1) & (df[\"Central_Lock\"] == 0)).sum()\n",
    "\n",
    "# Contar filas donde Central_Lock = 1 y Powered_Windows = 0\n",
    "cl_sin_pw = ((df[\"Central_Lock\"] == 1) & (df[\"Powered_Windows\"] == 0)).sum()\n",
    "\n",
    "# Contar filas donde ambas son 1\n",
    "ambos = ((df[\"Powered_Windows\"] == 1) & (df[\"Central_Lock\"] == 1)).sum()\n",
    "\n",
    "print(f\"Filas con Powered_Windows=1 y Central_Lock=0: {pw_sin_cl}\")\n",
    "print(f\"Filas con Central_Lock=1 y Powered_Windows=0: {cl_sin_pw}\")\n",
    "print(f\"Filas con Powered_Windows=1 y Central_Lock=1: {ambos}\")"
   ]
  },
  {
   "cell_type": "markdown",
   "id": "010a22f5",
   "metadata": {},
   "source": [
    "Ya que estamos, veamos su influencia sobre los quintiles de Precio\n"
   ]
  },
  {
   "cell_type": "code",
   "execution_count": null,
   "id": "2801c14f",
   "metadata": {},
   "outputs": [],
   "source": [
    "violinplot_feature(df, \"Powered_Windows\")\n",
    "violinplot_feature(df, \"Central_Lock\")"
   ]
  },
  {
   "cell_type": "markdown",
   "id": "1c86a980",
   "metadata": {},
   "source": [
    "En base a esto, considerando su fuerte correlación, considerando su peso sobre el Price, y considerando la correlación que tienen con la variable objetivo, elegimos quedarnos con Powered_Windows\n"
   ]
  },
  {
   "cell_type": "markdown",
   "id": "b75296a6",
   "metadata": {},
   "source": [
    "Central Lock se va:\n"
   ]
  },
  {
   "cell_type": "code",
   "execution_count": null,
   "id": "1b1fa9a6",
   "metadata": {},
   "outputs": [],
   "source": [
    "df = df.drop(columns=[\"Central_Lock\"])"
   ]
  },
  {
   "cell_type": "markdown",
   "id": "7e70fd9d",
   "metadata": {},
   "source": [
    "Siendo que nos quedamos con Airco, Powered_Windows y Boardcomputer, aquellas que puedan presentar colinealidad con estas features elegidas serán borradas.\n"
   ]
  },
  {
   "cell_type": "code",
   "execution_count": null,
   "id": "30181aef",
   "metadata": {},
   "outputs": [],
   "source": [
    "matrix = show_correlation_matrix(df)"
   ]
  },
  {
   "cell_type": "markdown",
   "id": "9a5bac51",
   "metadata": {},
   "source": [
    "Board_Computer y CD_Player tienen alta correlación, sacamos CD_Player\n"
   ]
  },
  {
   "cell_type": "code",
   "execution_count": null,
   "id": "cc94c867",
   "metadata": {},
   "outputs": [],
   "source": [
    "df = df.drop(columns=[\"CD_Player\"])"
   ]
  },
  {
   "cell_type": "markdown",
   "id": "21bf4431",
   "metadata": {},
   "source": [
    "Powered_Windows con Mistlamps tienen alta correlación, se van Mistlamps\n"
   ]
  },
  {
   "cell_type": "code",
   "execution_count": null,
   "id": "9d1a6319",
   "metadata": {},
   "outputs": [],
   "source": [
    "df = df.drop(columns=[\"Mistlamps\"])"
   ]
  },
  {
   "cell_type": "markdown",
   "id": "1b5bba0a",
   "metadata": {},
   "source": [
    "Echemos un vistazo a CC\n"
   ]
  },
  {
   "cell_type": "code",
   "execution_count": null,
   "id": "64cbc957",
   "metadata": {},
   "outputs": [],
   "source": [
    "barplot_feature(df, \"cc\")"
   ]
  },
  {
   "cell_type": "markdown",
   "id": "deb39e9a",
   "metadata": {},
   "source": [
    "16000 de cilindrada es un motor de 16 litros, seguramente está mal imputado ese dato, y corresponde a la clase o valor más frecuente, que serían 1600cc, o un motor 1.6.\n"
   ]
  },
  {
   "cell_type": "code",
   "execution_count": null,
   "id": "fbe1db4f",
   "metadata": {},
   "outputs": [],
   "source": [
    "# Find and correct the row where cc is 16000\n",
    "df.loc[df[\"cc\"] == 16000, \"cc\"] = 1600"
   ]
  },
  {
   "cell_type": "markdown",
   "id": "878959b9",
   "metadata": {},
   "source": [
    "1975 y 1995 son muy próximos a 2000, y valores tan específicos de cilindrada o pueden ser casos muy particulares o errores de imputación. En todo caso no nos aporta nada estas clases tan específicas y con tan poca frecuencia, por lo que las forzamos.\n"
   ]
  },
  {
   "cell_type": "code",
   "execution_count": null,
   "id": "67ca416d",
   "metadata": {},
   "outputs": [],
   "source": [
    "df.loc[df[\"cc\"].isin([1975, 1995]), \"cc\"] = 2000"
   ]
  },
  {
   "cell_type": "markdown",
   "id": "bb618198",
   "metadata": {},
   "source": [
    "1598 y 1587 los correjimos para que pertenezcan a 1600\n"
   ]
  },
  {
   "cell_type": "code",
   "execution_count": null,
   "id": "319cb24b",
   "metadata": {},
   "outputs": [],
   "source": [
    "df.loc[df[\"cc\"].isin([1598, 1587]), \"cc\"] = 1600"
   ]
  },
  {
   "cell_type": "markdown",
   "id": "da49f1db",
   "metadata": {},
   "source": [
    "1398 a 1400\n"
   ]
  },
  {
   "cell_type": "code",
   "execution_count": null,
   "id": "ad9a4f87",
   "metadata": {},
   "outputs": [],
   "source": [
    "df.loc[df[\"cc\"] == 1398, \"cc\"] = 1400"
   ]
  },
  {
   "cell_type": "markdown",
   "id": "482d7e34",
   "metadata": {},
   "source": [
    "1332 se redondea para abajo, pero nos terminaría quedando una clase con una sola ocurrencia, de momento lo hacemos, ya veremos cómo mejorar esta feature\n"
   ]
  },
  {
   "cell_type": "code",
   "execution_count": null,
   "id": "0651ffa3",
   "metadata": {},
   "outputs": [],
   "source": [
    "df.loc[df[\"cc\"] == 1332, \"cc\"] = 1300"
   ]
  },
  {
   "cell_type": "markdown",
   "id": "b3536a88",
   "metadata": {},
   "source": [
    "Y ahora veamos el violin plot de cc a ver si notamos algún patrón\n"
   ]
  },
  {
   "cell_type": "code",
   "execution_count": null,
   "id": "7b568139",
   "metadata": {},
   "outputs": [],
   "source": [
    "violinplot_feature(df, \"cc\")"
   ]
  },
  {
   "cell_type": "markdown",
   "id": "cc515d6d",
   "metadata": {},
   "source": [
    "Observamos, para cada quintil, 3 concentraciones de valores con medias en 1600, otras oscilando entre 1200 y 1400, y otras alrededor de 2000. Podemos interpretar que hay 3 tipos de motores, 1600 es un motor de tamaño medio, menos de 1600 es un motor chico, y más de 1600 es un motor grande. Veamos si agrupandolo así podemos lograr un feature que aporte más al modelo.\n"
   ]
  },
  {
   "cell_type": "code",
   "execution_count": null,
   "id": "654e85c6",
   "metadata": {},
   "outputs": [],
   "source": [
    "def classify_engine_size(cc):\n",
    "    if cc < 1500:\n",
    "        return 1  # Motor Chico\n",
    "    elif cc <= 1800:\n",
    "        return 2  # Motor Medio\n",
    "    else:\n",
    "        return 3  # Motor Grande\n",
    "\n",
    "\n",
    "# Create new feature as an ordinal variable\n",
    "df[\"Engine_Size\"] = df[\"cc\"].apply(classify_engine_size)\n",
    "df[\"Engine_Size\"]"
   ]
  },
  {
   "cell_type": "code",
   "execution_count": null,
   "id": "95743104",
   "metadata": {},
   "outputs": [],
   "source": [
    "df.dtypes"
   ]
  },
  {
   "cell_type": "code",
   "execution_count": null,
   "id": "74f8dcdd",
   "metadata": {},
   "outputs": [],
   "source": [
    "violinplot_feature(df, \"Engine_Size\")\n",
    "matrix = show_correlation_matrix(df[[\"Engine_Size\", \"Price\"]])"
   ]
  },
  {
   "cell_type": "markdown",
   "id": "36f1d24b",
   "metadata": {},
   "source": [
    "No parece muy útil, la quitamos\n"
   ]
  },
  {
   "cell_type": "code",
   "execution_count": null,
   "id": "895b23d1",
   "metadata": {},
   "outputs": [],
   "source": [
    "df = df.drop(columns=[\"Engine_Size\"])"
   ]
  },
  {
   "cell_type": "markdown",
   "id": "c8551ef6",
   "metadata": {},
   "source": [
    "Exploremos quarterly tax\n"
   ]
  },
  {
   "cell_type": "code",
   "execution_count": null,
   "id": "17a89b83",
   "metadata": {},
   "outputs": [],
   "source": [
    "df[\"Quarterly_Tax\"].value_counts()"
   ]
  },
  {
   "cell_type": "code",
   "execution_count": null,
   "id": "ee641d0b",
   "metadata": {},
   "outputs": [],
   "source": [
    "barplot_feature(df, \"Quarterly_Tax\")\n",
    "histogram_feature(df, \"Quarterly_Tax\", bins=13)\n",
    "violinplot_feature(df, \"Quarterly_Tax\")"
   ]
  },
  {
   "cell_type": "code",
   "execution_count": null,
   "id": "da274d01",
   "metadata": {},
   "outputs": [],
   "source": [
    "# Count observations that would be removed\n",
    "mask = (df[\"Quarterly_Tax\"] < 50) | (df[\"Quarterly_Tax\"] > 150)\n",
    "removed_count = mask.sum()\n",
    "\n",
    "# Get total observations and calculate percentage\n",
    "total = len(df)\n",
    "removed_pct = (removed_count / total) * 100\n",
    "\n",
    "print(f\"Total observations: {total}\")\n",
    "print(f\"Would remove: {removed_count} observations ({removed_pct:.2f}%)\")"
   ]
  },
  {
   "cell_type": "code",
   "execution_count": null,
   "id": "f45f9edb",
   "metadata": {},
   "outputs": [],
   "source": [
    "# Create a filtered view without modifying original df\n",
    "filtered_df = df[~mask]\n",
    "\n",
    "# Create bar plot\n",
    "histogram_feature(filtered_df, \"Quarterly_Tax\")\n",
    "violinplot_feature(filtered_df, \"Quarterly_Tax\")\n",
    "\n",
    "# Show correlation matrix for filtered data\n",
    "matrix = show_correlation_matrix(filtered_df[[\"Quarterly_Tax\", \"Price\"]])"
   ]
  },
  {
   "cell_type": "markdown",
   "id": "3e359d80",
   "metadata": {},
   "source": [
    "Podemos dividir en dos, impuestos altos e impuestos bajos\n"
   ]
  },
  {
   "cell_type": "code",
   "execution_count": null,
   "id": "35b195fd",
   "metadata": {},
   "outputs": [],
   "source": [
    "df[\"Quarterly_Tax\"].mean()"
   ]
  },
  {
   "cell_type": "code",
   "execution_count": null,
   "id": "55602e70",
   "metadata": {},
   "outputs": [],
   "source": [
    "df[\"High_Tax\"] = (df[\"Quarterly_Tax\"] > 80).astype(int)"
   ]
  },
  {
   "cell_type": "code",
   "execution_count": null,
   "id": "8fc2fc2d",
   "metadata": {},
   "outputs": [],
   "source": [
    "violinplot_feature(df, \"High_Tax\")\n",
    "matrix = show_correlation_matrix(df[[\"High_Tax\", \"Price\"]])"
   ]
  },
  {
   "cell_type": "markdown",
   "metadata": {},
   "source": [
    "Veamos qué features son las más correlacionadas con el Price hasta el momento.\n"
   ]
  },
  {
   "cell_type": "code",
   "execution_count": null,
   "metadata": {},
   "outputs": [],
   "source": [
    "top_corr = matrix[\"Price\"].abs().sort_values(ascending=False).iloc[1:16]\n",
    "print(top_corr)"
   ]
  },
  {
   "cell_type": "markdown",
   "id": "42b080a0",
   "metadata": {},
   "source": [
    "Exploremos Horse Power\n"
   ]
  },
  {
   "cell_type": "code",
   "execution_count": null,
   "id": "fe08b438",
   "metadata": {},
   "outputs": [],
   "source": [
    "barplot_feature(df, \"HP\")\n",
    "histogram_feature(df, \"HP\", bins=50)\n",
    "violinplot_feature(df, \"HP\")"
   ]
  },
  {
   "cell_type": "markdown",
   "id": "6821bc11",
   "metadata": {},
   "source": [
    "Probamos borrando esos outliers de HP\n"
   ]
  },
  {
   "cell_type": "code",
   "execution_count": null,
   "id": "a7d8d724",
   "metadata": {},
   "outputs": [],
   "source": [
    "# Create a copy of the dataframe\n",
    "df_filtered = df.copy()\n",
    "\n",
    "# Remove rows where HP > 150\n",
    "mask = df_filtered[\"HP\"] <= 150\n",
    "df_filtered = df_filtered[mask]\n",
    "\n",
    "# Show some statistics before and after\n",
    "print(f\"Original df shape: {df.shape}\")\n",
    "print(f\"Filtered df shape: {df_filtered.shape}\")\n",
    "print(\"\\nHP statistics in original df:\")\n",
    "print(df[\"HP\"].describe())\n",
    "print(\"\\nHP statistics in filtered df:\")\n",
    "print(df_filtered[\"HP\"].describe())\n",
    "\n",
    "matrix = show_correlation_matrix(df_filtered[[\"HP\", \"Price\"]])\n",
    "histogram_feature(df_filtered, \"HP\")"
   ]
  },
  {
   "cell_type": "markdown",
   "id": "3f11bec9",
   "metadata": {},
   "source": [
    "No vemos mucho que rescatarle a HP, poca correlación\n"
   ]
  },
  {
   "cell_type": "markdown",
   "metadata": {},
   "source": [
    "También podemos buscar una relación entre la potencia y el peso del vehículo\n"
   ]
  },
  {
   "cell_type": "code",
   "execution_count": null,
   "metadata": {},
   "outputs": [],
   "source": [
    "df[\"Weight_HP_Ratio\"] = df[\"Weight\"] / df[\"HP\"]\n",
    "histogram_feature(df, \"Weight_HP_Ratio\")"
   ]
  },
  {
   "cell_type": "markdown",
   "metadata": {},
   "source": [
    "Otra podría ser el nivel de uso, cuántos kilometros tiene para la edad que tiene\n"
   ]
  },
  {
   "cell_type": "code",
   "execution_count": null,
   "metadata": {},
   "outputs": [],
   "source": [
    "df[\"KM_per_Year\"] = df[\"KM\"] / df[\"Age_in_Years_08_04\"].replace(0, 1)\n",
    "df[\"KM_per_Month\"] = df[\"KM\"] / df[\"Age_08_04\"].replace(0, 1)\n",
    "\n",
    "# Mostrar correlación con Price\n",
    "correlation_year = df[\"KM_per_Year\"].corr(df[\"Price\"])\n",
    "correlation_month = df[\"KM_per_Month\"].corr(df[\"Price\"])\n",
    "print(f\"Correlación de KM_per_Year con Price: {correlation_year:.4f}\")\n",
    "print(f\"Correlación de KM_per_Month con Price: {correlation_month:.4f}\")\n",
    "fig, axes = plt.subplots(1, 2, figsize=(15, 5))\n",
    "sns.histplot(df[\"KM_per_Year\"], bins=50, kde=True, ax=axes[0], color=\"green\")\n",
    "axes[0].set_title(f\"Distribución de KM por Año de Uso (r={correlation_year:.4f})\")\n",
    "axes[0].set_xlabel(\"KM/Año\")\n",
    "\n",
    "sns.histplot(df[\"KM_per_Month\"], bins=50, kde=True, ax=axes[1], color=\"blue\")\n",
    "axes[1].set_title(f\"Distribución de KM por Mes de Uso (r={correlation_month:.4f})\")\n",
    "axes[1].set_xlabel(\"KM/Mes\")\n",
    "\n",
    "plt.tight_layout()\n",
    "plt.show()\n",
    "\n",
    "usage_correlations = show_correlation_matrix(\n",
    "    df[[\"KM_per_Year\", \"KM_per_Month\", \"KM\", \"Age_08_04\", \"Price\"]]\n",
    ")"
   ]
  },
  {
   "cell_type": "markdown",
   "metadata": {},
   "source": [
    "Casi nada de correlación, no es por aquí.\n"
   ]
  },
  {
   "cell_type": "code",
   "execution_count": null,
   "id": "f9eb1d95",
   "metadata": {},
   "outputs": [],
   "source": [
    "df = df.drop(columns=[\"KM_per_Year\", \"KM_per_Month\"])"
   ]
  },
  {
   "cell_type": "code",
   "execution_count": null,
   "metadata": {},
   "outputs": [],
   "source": [
    "len(df.columns)"
   ]
  },
  {
   "cell_type": "markdown",
   "metadata": {},
   "source": [
    "Por el sentido común, y por el scatter plot de abajo, creemos que el kilometraje y el precio no tienen una relación lineal, el precio en kilometrajes bajos es muy sensible, pero en kilometrajes altos se estabiliza\n"
   ]
  },
  {
   "cell_type": "markdown",
   "metadata": {},
   "source": [
    "Se nos ocurren dos alternativas. Una es considerarla cuadrática e intentar mejorarla con un sqrt. La otra es tratar de aplicar una hipérbola de una función racional. Veamos qué tal quedan con eso.\n"
   ]
  },
  {
   "cell_type": "code",
   "execution_count": null,
   "metadata": {},
   "outputs": [],
   "source": [
    "scatter_feature(df, \"KM\", \"Price\")\n",
    "violinplot_feature(df, \"KM\")\n",
    "histogram_feature(df, \"KM\", bins=100)"
   ]
  },
  {
   "cell_type": "markdown",
   "metadata": {},
   "source": [
    "Aplicamos la raíz cuadrada\n"
   ]
  },
  {
   "cell_type": "code",
   "execution_count": null,
   "metadata": {},
   "outputs": [],
   "source": [
    "df[\"KM_Sqrt\"] = np.sqrt(df[\"KM\"])\n",
    "scatter_feature(df, \"KM_Sqrt\")\n",
    "violinplot_feature(df, \"KM_Sqrt\")\n",
    "histogram_feature(df, \"KM_Sqrt\", bins=100)"
   ]
  },
  {
   "cell_type": "markdown",
   "id": "f8df7bc6",
   "metadata": {},
   "source": [
    "Veamos con un logaritmo\n"
   ]
  },
  {
   "cell_type": "code",
   "execution_count": null,
   "id": "8dcb667d",
   "metadata": {},
   "outputs": [],
   "source": [
    "df[\"KM_Log\"] = np.log1p(df[\"KM\"])\n",
    "scatter_feature(df, \"KM_Log\")\n",
    "violinplot_feature(df, \"KM_Log\")\n",
    "histogram_feature(df, \"KM_Log\", bins=100)"
   ]
  },
  {
   "cell_type": "markdown",
   "metadata": {},
   "source": [
    "Vemos la correlación\n"
   ]
  },
  {
   "cell_type": "code",
   "execution_count": null,
   "metadata": {},
   "outputs": [],
   "source": [
    "matrix = show_correlation_matrix(df[[\"KM_Sqrt\", \"KM_Log\", \"Price\"]])"
   ]
  },
  {
   "cell_type": "markdown",
   "id": "d5b3d810",
   "metadata": {},
   "source": [
    "KM_Log fue un error, nos deshacemos\n"
   ]
  },
  {
   "cell_type": "code",
   "execution_count": null,
   "id": "9231b85a",
   "metadata": {},
   "outputs": [],
   "source": [
    "df = df.drop(columns=[\"KM_Log\"])"
   ]
  },
  {
   "cell_type": "markdown",
   "metadata": {},
   "source": [
    "Exploremos un poco weight\n"
   ]
  },
  {
   "cell_type": "code",
   "execution_count": null,
   "metadata": {},
   "outputs": [],
   "source": [
    "histogram_feature(df, \"Weight\")\n",
    "scatter_feature(df, \"Weight\", \"Price\")\n",
    "violinplot_feature(df, \"Weight\")"
   ]
  },
  {
   "cell_type": "markdown",
   "id": "ef0dc6b3",
   "metadata": {},
   "source": [
    "Más allá de que haya outliers, no se ve una relación significativa con el price y con los quintiles, no le vemos mucho valor a weight.\n"
   ]
  },
  {
   "cell_type": "code",
   "execution_count": null,
   "id": "78da85b8",
   "metadata": {},
   "outputs": [],
   "source": [
    "# Calcular la correlación de todas las columnas numéricas con Weight\n",
    "weight_corr = df.corr(numeric_only=True)[\"Weight\"].abs().sort_values(ascending=False)\n",
    "print(weight_corr.head(15))"
   ]
  },
  {
   "cell_type": "markdown",
   "metadata": {},
   "source": [
    "Veamos cómo está distribuido Age\n"
   ]
  },
  {
   "cell_type": "code",
   "execution_count": null,
   "metadata": {},
   "outputs": [],
   "source": [
    "histogram_feature(df, \"Age_08_04\", bins=50)\n",
    "scatter_feature(df, \"Age_08_04\")"
   ]
  },
  {
   "cell_type": "markdown",
   "metadata": {},
   "source": [
    "También nos quedó pendiente la feature fuel type, vamos a hacerle dummies porque es categórica\n"
   ]
  },
  {
   "cell_type": "code",
   "execution_count": null,
   "metadata": {},
   "outputs": [],
   "source": [
    "fuel_dummies = pd.get_dummies(\n",
    "    df[\"Fuel_Type\"], prefix=\"Fuel_Type\", dtype=int, drop_first=True\n",
    ")\n",
    "df = pd.concat([df, fuel_dummies], axis=1)"
   ]
  },
  {
   "cell_type": "code",
   "execution_count": null,
   "id": "09eeefc3",
   "metadata": {},
   "outputs": [],
   "source": [
    "violinplot_feature(df, \"Fuel_Type_Petrol\")"
   ]
  },
  {
   "cell_type": "code",
   "execution_count": null,
   "metadata": {},
   "outputs": [],
   "source": [
    "matrix = show_correlation_matrix(df[[\"Fuel_Type_Diesel\", \"Fuel_Type_Petrol\", \"Price\"]])"
   ]
  },
  {
   "cell_type": "markdown",
   "id": "f6e00648",
   "metadata": {},
   "source": [
    "Qué más nos falta ver\n"
   ]
  },
  {
   "cell_type": "code",
   "execution_count": null,
   "id": "c0e3930d",
   "metadata": {},
   "outputs": [],
   "source": [
    "df.columns\n",
    "df.dtypes.head()"
   ]
  },
  {
   "cell_type": "code",
   "execution_count": null,
   "id": "1132a99f",
   "metadata": {},
   "outputs": [],
   "source": [
    "matrix = show_correlation_matrix(df)"
   ]
  },
  {
   "cell_type": "markdown",
   "id": "12944b0a",
   "metadata": {},
   "source": [
    "Veamos una combinación de Airbags\n"
   ]
  },
  {
   "cell_type": "code",
   "execution_count": null,
   "id": "55471fa3",
   "metadata": {},
   "outputs": [],
   "source": [
    "# Create new feature combining airbags\n",
    "df[\"Total_Airbags\"] = df[\"Airbag_1\"] + df[\"Airbag_2\"]\n",
    "\n",
    "# Create violin plot for Total_Airbags\n",
    "violinplot_feature(df, \"Total_Airbags\")\n",
    "\n",
    "# Create bar plot for Total_Airbags\n",
    "barplot_feature(df, \"Total_Airbags\")\n",
    "\n",
    "# Show correlation with Price\n",
    "matrix = show_correlation_matrix(df[[\"Total_Airbags\", \"Price\"]])"
   ]
  },
  {
   "cell_type": "code",
   "execution_count": null,
   "id": "1e9acc6c",
   "metadata": {},
   "outputs": [],
   "source": [
    "df.dtypes"
   ]
  },
  {
   "cell_type": "markdown",
   "metadata": {},
   "source": [
    "## Limpieza\n"
   ]
  },
  {
   "cell_type": "markdown",
   "metadata": {},
   "source": [
    "Ahora mismo nuestro dataset se ve así\n"
   ]
  },
  {
   "cell_type": "code",
   "execution_count": null,
   "metadata": {},
   "outputs": [],
   "source": [
    "df.describe().T"
   ]
  },
  {
   "cell_type": "code",
   "execution_count": null,
   "metadata": {},
   "outputs": [],
   "source": [
    "df.dtypes.iloc[15:]"
   ]
  },
  {
   "cell_type": "markdown",
   "metadata": {},
   "source": [
    "Del trabajo anterior en el que tratamos de crear nuevas features y mejorarlas, vamos a ver cuáles son las mejores candidatas a limpiar\n"
   ]
  },
  {
   "cell_type": "markdown",
   "metadata": {},
   "source": [
    "Tomamos las variables más correlacionadas con Price\n"
   ]
  },
  {
   "cell_type": "code",
   "execution_count": null,
   "metadata": {},
   "outputs": [],
   "source": [
    "correlations = df.corr(numeric_only=True)[\"Price\"].abs().sort_values(ascending=False)\n",
    "\n",
    "top_corr_vars = correlations.drop(\"Price\").head(15)\n",
    "print(top_corr_vars)"
   ]
  },
  {
   "cell_type": "markdown",
   "metadata": {},
   "source": [
    "Muchas de las variables más correlacionadas de este top son variaciones de la misma información, nos quedamos con una de cada tipo, eligiendo por su distribución en general, y por su correlación\n"
   ]
  },
  {
   "cell_type": "markdown",
   "metadata": {},
   "source": [
    "Age_Sqrt, Mfg_Year, Age_08_04, Age_in_Years_08_04 son todas variaciones de la edad del vehículo. Nos quedamos con Age_Sqrt que es la mejor por el análisis que le hicimos, de todas formas aquí van sus gráficos de nuevo\n"
   ]
  },
  {
   "cell_type": "code",
   "execution_count": null,
   "metadata": {},
   "outputs": [],
   "source": [
    "# from utils import plot_feature_analysis\n",
    "\n",
    "# plot_feature_analysis(df, \"Age_Sqrt\")"
   ]
  },
  {
   "cell_type": "markdown",
   "metadata": {},
   "source": [
    "Para el equipment tenemos el equipment alto, el equipment premium, el equipment count. De todos, el que más utilidad nos puede dar es Equipment_Score, por su correlación, y su distribución más similar a una normal.\n"
   ]
  },
  {
   "cell_type": "code",
   "execution_count": null,
   "metadata": {},
   "outputs": [],
   "source": [
    "# plot_feature_analysis(df, \"Equipment_Score\")"
   ]
  },
  {
   "cell_type": "markdown",
   "metadata": {},
   "source": [
    "Para el kilometraje nos quedamos con su variante de raíz cuadrada, que explica mejor el comportamiento del precio y que tiene una distribución muy próxima a una normal\n"
   ]
  },
  {
   "cell_type": "code",
   "execution_count": null,
   "metadata": {},
   "outputs": [],
   "source": [
    "# plot_feature_analysis(df, \"KM_Sqrt\")"
   ]
  },
  {
   "cell_type": "markdown",
   "metadata": {},
   "source": [
    "Para el peso nos quedamos con su versión transformada con logaritmo, porque aunque tengan correlación muy similar, la transformada tiene una mejor distribución\n"
   ]
  },
  {
   "cell_type": "code",
   "execution_count": null,
   "metadata": {},
   "outputs": [],
   "source": [
    "# plot_feature_analysis(df, \"Weight_Log\", bins=100)"
   ]
  },
  {
   "cell_type": "markdown",
   "metadata": {},
   "source": [
    "Vamos sacando todo lo que ya no nos sirve\n"
   ]
  },
  {
   "cell_type": "code",
   "execution_count": null,
   "metadata": {},
   "outputs": [],
   "source": []
  },
  {
   "cell_type": "code",
   "execution_count": null,
   "metadata": {},
   "outputs": [],
   "source": [
    "# matrix = show_correlation_matrix(df)"
   ]
  },
  {
   "cell_type": "markdown",
   "metadata": {},
   "source": [
    "Vamos a tratar de limpiar lo más que podamos estas variables en orden de importancia\n"
   ]
  },
  {
   "cell_type": "markdown",
   "metadata": {},
   "source": [
    "### Price\n"
   ]
  },
  {
   "cell_type": "code",
   "execution_count": null,
   "metadata": {},
   "outputs": [],
   "source": [
    "# plot_feature_analysis(df, \"Price\")"
   ]
  },
  {
   "cell_type": "markdown",
   "metadata": {},
   "source": [
    "Price presenta varios outliers, algunos pocos vehiculos con precios muy elevados. Más allá de eso, la distribución de price parece rescatable, vamos a empezar por limpiar outliers usando IQR\n"
   ]
  },
  {
   "cell_type": "code",
   "execution_count": null,
   "metadata": {},
   "outputs": [],
   "source": [
    "# from utils import clean_outliers_iqr\n",
    "\n",
    "\n",
    "# df = df[clean_outliers_iqr(df[\"Price\"])[1]]\n",
    "# plot_feature_analysis(df, \"Price\")"
   ]
  },
  {
   "cell_type": "markdown",
   "metadata": {},
   "source": [
    "hemos probado con zscore y la distribución resultante no es adecuada, vamos a probar borrando directamente los precios por encima de cierto valor\n"
   ]
  },
  {
   "cell_type": "code",
   "execution_count": null,
   "metadata": {},
   "outputs": [],
   "source": [
    "# df = df[df[\"Price\"] <= 15000]\n",
    "# plot_feature_analysis(df, \"Price\", bins=50)"
   ]
  },
  {
   "cell_type": "markdown",
   "metadata": {},
   "source": [
    "### Age_Sqrt\n"
   ]
  },
  {
   "cell_type": "code",
   "execution_count": null,
   "metadata": {},
   "outputs": [],
   "source": [
    "# plot_feature_analysis(df, \"Age_Sqrt\")"
   ]
  },
  {
   "cell_type": "markdown",
   "metadata": {},
   "source": [
    "Age_Sqrt presenta varios outliers, empecemos limpiandolo para ver cómo queda la distribución\n"
   ]
  },
  {
   "cell_type": "code",
   "execution_count": null,
   "metadata": {},
   "outputs": [],
   "source": [
    "# df = df[clean_outliers_iqr(df[\"Age_Sqrt\"])[1]]\n",
    "# plot_feature_analysis(df, \"Age_Sqrt\")"
   ]
  },
  {
   "cell_type": "markdown",
   "metadata": {},
   "source": [
    "Aplicamos zscore\n"
   ]
  },
  {
   "cell_type": "code",
   "execution_count": null,
   "metadata": {},
   "outputs": [],
   "source": [
    "# from utils import clean_outliers_zscore\n",
    "\n",
    "\n",
    "# df = df[clean_outliers_zscore(df[\"Age_Sqrt\"])[1]]\n",
    "# plot_feature_analysis(df, \"Age_Sqrt\")"
   ]
  },
  {
   "cell_type": "markdown",
   "metadata": {},
   "source": [
    "## Equipment_Score\n"
   ]
  },
  {
   "cell_type": "code",
   "execution_count": null,
   "metadata": {},
   "outputs": [],
   "source": [
    "# plot_feature_analysis(df, \"Equipment_Score\")"
   ]
  },
  {
   "cell_type": "markdown",
   "metadata": {},
   "source": [
    "Equipment_Score no presenta outliers, lo dejamos como está porque un zscore no dió resultados satisfactorios\n"
   ]
  },
  {
   "cell_type": "markdown",
   "metadata": {},
   "source": [
    "### KM_Sqrt\n"
   ]
  },
  {
   "cell_type": "code",
   "execution_count": null,
   "metadata": {},
   "outputs": [],
   "source": [
    "# plot_feature_analysis(df, \"KM_Sqrt\")"
   ]
  },
  {
   "cell_type": "markdown",
   "metadata": {},
   "source": [
    "KM_sqrt está muy bien en primera instancia, vamos a aplicar un zscore ya que la distribución es casi normal\n"
   ]
  },
  {
   "cell_type": "code",
   "execution_count": null,
   "metadata": {},
   "outputs": [],
   "source": [
    "# df = df[clean_outliers_zscore(df[\"KM_Sqrt\"])[1]]\n",
    "# plot_feature_analysis(df, \"KM_Sqrt\")"
   ]
  },
  {
   "cell_type": "markdown",
   "metadata": {},
   "source": [
    "No más tratamiento\n"
   ]
  },
  {
   "cell_type": "markdown",
   "metadata": {},
   "source": [
    "### Weight_Log\n"
   ]
  },
  {
   "cell_type": "code",
   "execution_count": null,
   "metadata": {},
   "outputs": [],
   "source": [
    "# plot_feature_analysis(df, \"Weight_Log\")"
   ]
  },
  {
   "cell_type": "markdown",
   "metadata": {},
   "source": [
    "Weight presenta un sesgo a la derecha, aplicaremos un IQR para ir limpiando outliers\n"
   ]
  },
  {
   "cell_type": "code",
   "execution_count": null,
   "metadata": {},
   "outputs": [],
   "source": [
    "# df = df[clean_outliers_iqr(df[\"Weight_Log\"])[1]]\n",
    "# plot_feature_analysis(df, \"Weight_Log\")"
   ]
  },
  {
   "cell_type": "markdown",
   "metadata": {},
   "source": [
    "### HP\n"
   ]
  },
  {
   "cell_type": "code",
   "execution_count": null,
   "metadata": {},
   "outputs": [],
   "source": [
    "# plot_feature_analysis(df, \"HP\", bins=50)"
   ]
  },
  {
   "cell_type": "markdown",
   "metadata": {},
   "source": [
    "### HP\n"
   ]
  },
  {
   "cell_type": "markdown",
   "metadata": {},
   "source": [
    "No parece rescatable, y no derivamos ninguna feature de aquí\n"
   ]
  },
  {
   "cell_type": "markdown",
   "metadata": {},
   "source": [
    "### Quarterly_Tax\n"
   ]
  },
  {
   "cell_type": "code",
   "execution_count": null,
   "metadata": {},
   "outputs": [],
   "source": [
    "# plot_feature_analysis(df, \"Quarterly_Tax\", bins=50)"
   ]
  },
  {
   "cell_type": "markdown",
   "metadata": {},
   "source": [
    "No se puede recuperar esta variable\n"
   ]
  },
  {
   "cell_type": "markdown",
   "metadata": {},
   "source": [
    "### Resto de variables\n"
   ]
  },
  {
   "cell_type": "markdown",
   "metadata": {},
   "source": [
    "No tiene sentido seguir limpiando, estamos en la marca de 1000 observaciones y las variables que quedan tienen una correlación muy baja\n"
   ]
  },
  {
   "cell_type": "code",
   "execution_count": null,
   "metadata": {},
   "outputs": [],
   "source": [
    "# matrix = show_correlation_matrix(df)"
   ]
  },
  {
   "cell_type": "code",
   "execution_count": null,
   "metadata": {},
   "outputs": [],
   "source": [
    "df.dtypes"
   ]
  },
  {
   "cell_type": "markdown",
   "metadata": {},
   "source": [
    "# Guardar dataset limpio\n"
   ]
  },
  {
   "cell_type": "code",
   "execution_count": null,
   "id": "f19682dc",
   "metadata": {},
   "outputs": [
    {
     "name": "stdout",
     "output_type": "stream",
     "text": [
      "Original shape: (1436, 41)\n",
      "Numeric shape: (1436, 38)\n"
     ]
    }
   ],
   "source": [
    "# Drop non-numeric columns from the dataframe\n",
    "numeric_df = df.select_dtypes(include=[\"int64\", \"float64\", \"bool\"])\n",
    "\n",
    "# Print final shape\n",
    "print(f\"Original shape: {df.shape}\")\n",
    "print(f\"Numeric shape: {numeric_df.shape}\")\n",
    "\n",
    "df = numeric_df.copy()"
   ]
  },
  {
   "cell_type": "code",
   "execution_count": null,
   "metadata": {},
   "outputs": [],
   "source": [
    "from pathlib import Path\n",
    "\n",
    "\n",
    "clean_path = Path(\"data/clean_df.csv\").resolve()\n",
    "df.to_csv(clean_path, index=False)\n",
    "clean_path"
   ]
  },
  {
   "cell_type": "code",
   "execution_count": null,
   "metadata": {},
   "outputs": [],
   "source": [
    "# orig_doors = pd.to_numeric(df[\"Doors\"], errors=\"coerce\").astype(\"Int64\")\n",
    "\n",
    "# raw = df[\"Model_Clean\"].str.extract(\n",
    "#     r\"(\\d(?:/\\d)?)(?=\\s*[-\\s]?(?:Doors?|Drs?))\", expand=False\n",
    "# )\n",
    "\n",
    "\n",
    "# def normalize(val):\n",
    "#     if pd.isna(val):\n",
    "#         return pd.NA\n",
    "#     return max(map(int, val.split(\"/\"))) if \"/\" in val else int(val)\n",
    "\n",
    "\n",
    "# df[\"Doors_extracted\"] = raw.apply(normalize).astype(\"Int64\")\n",
    "# df[\"Doors_extracted\"].value_counts(dropna=False)"
   ]
  },
  {
   "cell_type": "code",
   "execution_count": null,
   "metadata": {},
   "outputs": [],
   "source": [
    "# df[\"Doors\"].value_counts(dropna=False)"
   ]
  },
  {
   "cell_type": "code",
   "execution_count": null,
   "id": "d3d37110",
   "metadata": {},
   "outputs": [],
   "source": [
    "# orig_doors = pd.to_numeric(df[\"Doors\"], errors=\"coerce\").astype(\"Int64\")\n",
    "\n",
    "# raw = df[\"Model_Clean\"].str.extract(\n",
    "#     r\"(\\d(?:/\\d)?)(?=\\s*[-\\s]?(?:Doors?|Drs?))\", expand=False\n",
    "# )\n",
    "\n",
    "\n",
    "# def normalize(val):\n",
    "#     if pd.isna(val):\n",
    "#         return pd.NA\n",
    "#     return max(map(int, val.split(\"/\"))) if \"/\" in val else int(val)\n",
    "\n",
    "\n",
    "# df[\"Doors_extracted\"] = raw.apply(normalize).astype(\"Int64\")\n",
    "\n",
    "# body_map = {\n",
    "#     \"Sedan\": 4,\n",
    "#     \"Coupe\": 3,\n",
    "#     \"Convertible\": 3,\n",
    "#     \"Hatchback\": 5,\n",
    "#     \"Hatchb\": 5,\n",
    "#     \"Wagon\": 5,\n",
    "#     \"Stationwagen\": 5,\n",
    "#     \"Sw\": 5,\n",
    "#     \"Station\": 5,\n",
    "#     \"Mpv\": 5,\n",
    "#     \"Verso\": 5,\n",
    "# }\n",
    "# mask_inf = df[\"Doors_extracted\"].isna() & df[\"Body_Style\"].notna()\n",
    "# df.loc[mask_inf, \"Doors_extracted\"] = df.loc[mask_inf, \"Body_Style\"].map(body_map)\n",
    "# manual_map = {\"Gli\": 4, \"XLi\": 4, \"E-Four\": 4, \"XEi\": 4, \"16V\": 4}\n",
    "\n",
    "\n",
    "# def assign_manual(text):\n",
    "#     for key, doors in manual_map.items():\n",
    "#         if key.lower() in text.lower():\n",
    "#             return doors\n",
    "#     return pd.NA\n",
    "\n",
    "\n",
    "# mask_man = df[\"Doors_extracted\"].isna()\n",
    "# df.loc[mask_man, \"Doors_extracted\"] = (\n",
    "#     df.loc[mask_man, \"Model_Clean\"].apply(assign_manual).astype(\"Int64\")\n",
    "# )\n",
    "# combined = pd.concat(\n",
    "#     [orig_doors.fillna(0), df[\"Doors_extracted\"].fillna(0)], axis=1\n",
    "# ).max(axis=1)\n",
    "# df[\"Doors\"] = combined.replace({0: pd.NA}).astype(\"Int64\")\n",
    "\n",
    "# five_styles = {\n",
    "#     \"Hatchback\",\n",
    "#     \"Hatchb\",\n",
    "#     \"Wagon\",\n",
    "#     \"Stationwagen\",\n",
    "#     \"Sw\",\n",
    "#     \"Station\",\n",
    "#     \"Mpv\",\n",
    "#     \"Verso\",\n",
    "# }\n",
    "\n",
    "\n",
    "# def force_3_or_5(row):\n",
    "#     d = row[\"Doors\"]\n",
    "#     if d in (3, 5):\n",
    "#         return d\n",
    "#     return 5 if row[\"Body_Style\"] in five_styles else 3\n",
    "\n",
    "\n",
    "# df[\"Doors\"] = df.apply(force_3_or_5, axis=1).astype(\"Int64\")\n",
    "# df.drop(columns=[\"Doors_extracted\"], inplace=True)\n",
    "\n",
    "# print(df[[\"Model_Clean\", \"Doors\"]])\n",
    "# print(\"\\nDistribución de Doors:\")\n",
    "# print(df[\"Doors\"].value_counts(dropna=False))"
   ]
  },
  {
   "cell_type": "markdown",
   "id": "3b7a2450",
   "metadata": {},
   "source": [
    "Después de corregir la feature Doors veremos cómo quedó\n"
   ]
  },
  {
   "cell_type": "code",
   "execution_count": null,
   "id": "902bacee",
   "metadata": {},
   "outputs": [],
   "source": [
    "# df[\"Doors\"].value_counts()"
   ]
  },
  {
   "cell_type": "code",
   "execution_count": null,
   "id": "a4afd750",
   "metadata": {},
   "outputs": [],
   "source": [
    "# hist = histogram(df[\"Doors\"], title=\"Doors\")"
   ]
  },
  {
   "cell_type": "markdown",
   "id": "086f087f",
   "metadata": {},
   "source": [
    "Quedó bastante bien\n"
   ]
  },
  {
   "cell_type": "markdown",
   "id": "d3db968c",
   "metadata": {},
   "source": [
    "En la siguiente celda, retiramos las features auxiliares derivadas de model para que no interfieran en el dataset\n"
   ]
  },
  {
   "cell_type": "code",
   "execution_count": null,
   "id": "b74db8e2",
   "metadata": {},
   "outputs": [],
   "source": [
    "# df.drop(\n",
    "#     columns=[\"Model\", \"Model_Clean\", \"Model_Len\", \"Model_Words\"],\n",
    "#     inplace=True,\n",
    "#     axis=1,\n",
    "#     errors=\"ignore\",\n",
    "# )\n",
    "# print(df.columns.tolist())"
   ]
  },
  {
   "cell_type": "markdown",
   "id": "6783d0ba",
   "metadata": {},
   "source": [
    "Ahora veremos qué tal las features nuevas en una matriz de correlación\n"
   ]
  },
  {
   "cell_type": "code",
   "execution_count": null,
   "id": "23d59012",
   "metadata": {},
   "outputs": [],
   "source": [
    "# df[\"Body_Style\"].value_counts(dropna=False)"
   ]
  },
  {
   "cell_type": "code",
   "execution_count": null,
   "id": "edd1b77f",
   "metadata": {},
   "outputs": [],
   "source": [
    "# df[\n",
    "#     [\n",
    "#         \"Doors\",\n",
    "#         \"Brand\",\n",
    "#         \"Series\",\n",
    "#         \"Engine_Size\",\n",
    "#         \"Engine_Tech\",\n",
    "#         \"Body_Style\",\n",
    "#         \"Trim\",\n",
    "#         \"Price\",\n",
    "#     ]\n",
    "# ]"
   ]
  },
  {
   "cell_type": "code",
   "execution_count": null,
   "id": "be763bb9",
   "metadata": {},
   "outputs": [],
   "source": [
    "# df[\"Engine_Tech\"].value_counts(dropna=False)"
   ]
  },
  {
   "cell_type": "code",
   "execution_count": null,
   "id": "bfbd7481",
   "metadata": {},
   "outputs": [],
   "source": [
    "# df[\"Body_Style\"].value_counts()"
   ]
  },
  {
   "cell_type": "markdown",
   "id": "2c8670a0",
   "metadata": {},
   "source": [
    "Como notamos\n"
   ]
  },
  {
   "cell_type": "code",
   "execution_count": null,
   "id": "17f9eef4",
   "metadata": {},
   "outputs": [],
   "source": []
  },
  {
   "cell_type": "code",
   "execution_count": null,
   "id": "b6c32547",
   "metadata": {},
   "outputs": [],
   "source": [
    "# matrix = show_correlation_matrix(\n",
    "#     df[\n",
    "#         [\n",
    "#             \"Doors\",\n",
    "#             \"Brand\",\n",
    "#             \"Series\",\n",
    "#             \"Engine_Size\",\n",
    "#             \"Engine_Tech\",\n",
    "#             \"Body_Style\",\n",
    "#             \"Trim\",\n",
    "#             \"Price\",\n",
    "#         ]\n",
    "#     ]\n",
    "# )"
   ]
  },
  {
   "cell_type": "markdown",
   "id": "37764ec4",
   "metadata": {},
   "source": [
    "## Eliminación de valores nulos\n"
   ]
  },
  {
   "cell_type": "code",
   "execution_count": null,
   "id": "7b4c16c0",
   "metadata": {},
   "outputs": [],
   "source": [
    "# # Seleccionar columnas numéricas\n",
    "# numeric_df = df.select_dtypes(include=\"number\")\n",
    "\n",
    "# # Verificar si hay valores negativos\n",
    "# negativos_bool = (numeric_df < 0).any()\n",
    "\n",
    "# # Convertir a DataFrame con nombre de columna y booleano\n",
    "# negativos_df = negativos_bool.reset_index()\n",
    "# negativos_df.columns = [\"columna\", \"tiene_valores_negativos\"]\n",
    "\n",
    "# # Mostrar el resultado\n",
    "# negativos_df"
   ]
  },
  {
   "cell_type": "markdown",
   "id": "febfac05",
   "metadata": {},
   "source": [
    "# Limpieza de datos\n"
   ]
  },
  {
   "cell_type": "code",
   "execution_count": null,
   "id": "c0abcfa6",
   "metadata": {},
   "outputs": [],
   "source": [
    "# # Sacamos las columnas que no nos interesan\n",
    "# df = df.drop(columns=[\"Id\"], axis=1, errors=\"ignore\")\n",
    "# df"
   ]
  },
  {
   "cell_type": "code",
   "execution_count": null,
   "id": "2451f9e5",
   "metadata": {},
   "outputs": [],
   "source": [
    "# # 1. Obtener el número de nulos por columna\n",
    "# null_counts = df.isnull().sum()\n",
    "\n",
    "# # 2. Filtrar solo columnas con al menos un nulo\n",
    "# null_counts = null_counts[null_counts > 0]\n",
    "\n",
    "# # 3. Mostrar el resultado\n",
    "# print(null_counts)"
   ]
  },
  {
   "cell_type": "markdown",
   "id": "ad55a495",
   "metadata": {},
   "source": [
    "## Detección de valores duplicados\n"
   ]
  },
  {
   "cell_type": "code",
   "execution_count": null,
   "id": "ab4b3523",
   "metadata": {},
   "outputs": [],
   "source": [
    "# def duplicados_con_indices(df):\n",
    "#     resultado = []\n",
    "\n",
    "#     for i in range(len(df)):\n",
    "#         fila_actual = df.iloc[i]\n",
    "#         duplicado_en = False\n",
    "\n",
    "#         for j in range(i):\n",
    "#             if df.iloc[j].equals(fila_actual):\n",
    "#                 duplicado_en = j\n",
    "#                 break\n",
    "\n",
    "#         resultado.append({\"Fila\": i, \"Duplicado_de\": duplicado_en})\n",
    "\n",
    "#     # Convertir la lista de resultados en un DataFrame\n",
    "#     df_resultado = pd.DataFrame(resultado)\n",
    "#     return df_resultado\n",
    "\n",
    "\n",
    "# df_re = duplicados_con_indices(df)"
   ]
  },
  {
   "cell_type": "code",
   "execution_count": null,
   "id": "7e97cfc9",
   "metadata": {},
   "outputs": [],
   "source": [
    "# # Crear una columna 'dup_col' que marca los duplicados según df_re\n",
    "# dup_col = \"Duplicado_de\"\n",
    "# df[dup_col] = False\n",
    "# for idx, orig in zip(df_re[\"Fila\"], df_re[\"Duplicado_de\"]):\n",
    "#     df.at[idx, dup_col] = orig\n",
    "\n",
    "# # 1) Filtrar las filas marcadas\n",
    "# df_dup = df.loc[df[dup_col] != False]\n",
    "\n",
    "# # 2) Sacar índices de duplicados y de sus originales\n",
    "# dup_idxs = df_dup.index.tolist()\n",
    "# orig_idxs = df_dup[dup_col].tolist()\n",
    "\n",
    "# # 3) Unión única y ordenada de índices\n",
    "# all_idxs = sorted(set(dup_idxs + orig_idxs))\n",
    "\n",
    "# # 4) Extraer esas filas completas\n",
    "# pd.set_option(\"display.max_columns\", None)\n",
    "# df_pairs = df.loc[all_idxs]\n",
    "\n",
    "# # 5) Mostrar resultado\n",
    "# df_pairs"
   ]
  },
  {
   "cell_type": "code",
   "execution_count": null,
   "id": "698656ab",
   "metadata": {},
   "outputs": [],
   "source": [
    "# # Verificar si hay columnas constantes\n",
    "# columnas_cte = df.columns[df.nunique() == 1]\n",
    "# print(\"Columnas constantes:\", columnas_cte.tolist())"
   ]
  },
  {
   "cell_type": "code",
   "execution_count": null,
   "id": "b9947080",
   "metadata": {},
   "outputs": [],
   "source": [
    "# # borrar columnas constantes\n",
    "# df.drop(columns=[\"Cylinders\", \"Brand\", \"Series\"], axis=1, inplace=True)\n",
    "# df"
   ]
  },
  {
   "cell_type": "code",
   "execution_count": null,
   "id": "d344ba5f",
   "metadata": {},
   "outputs": [],
   "source": [
    "# # Mostrar cantidad de outliers por columna\n",
    "# resumen = resumen_outliers(df)\n",
    "# resumen"
   ]
  },
  {
   "cell_type": "code",
   "execution_count": null,
   "id": "38ebce10",
   "metadata": {},
   "outputs": [],
   "source": [
    "# # ------------------------------------------------\n",
    "# # Detectar columnas con valores continuos en `df`\n",
    "# # ------------------------------------------------\n",
    "\n",
    "# from pandas.api.types import is_float_dtype, is_integer_dtype\n",
    "\n",
    "# # Umbral mínimo de valores únicos para considerar un entero como “continuo”\n",
    "# INT_UNIQUE_THRESHOLD = 20\n",
    "\n",
    "# continuous_features = []\n",
    "# for col in df.columns:\n",
    "#     series = df[col]\n",
    "#     # Si es float, lo consideramos continuo\n",
    "#     if is_float_dtype(series):\n",
    "#         continuous_features.append(col)\n",
    "#     # Si es entero y tiene muchos valores únicos, también lo consideramos continuo\n",
    "#     elif is_integer_dtype(series) and series.nunique() > INT_UNIQUE_THRESHOLD:\n",
    "#         continuous_features.append(col)\n",
    "\n",
    "# print(\"Features continuas detectadas:\")\n",
    "# for feat in continuous_features:\n",
    "#     print(f\" - {feat} (dtype={df[feat].dtype}, únicos={df[feat].nunique()})\")"
   ]
  },
  {
   "cell_type": "code",
   "execution_count": null,
   "id": "4a30f871",
   "metadata": {},
   "outputs": [],
   "source": [
    "# # Define tus cortes manuales\n",
    "# bins = [df[\"Quarterly_Tax\"].min() - 1, 100, 150, 200, df[\"Quarterly_Tax\"].max()]\n",
    "# labels = [1, 2, 3, 4]\n",
    "\n",
    "# # Crea la categoría\n",
    "# df[\"Tax_RangeCat\"] = pd.cut(df[\"Quarterly_Tax\"], bins=bins, labels=labels).astype(int)\n",
    "\n",
    "# # Muestra la relación entre Quarterly_Tax y la nueva categoría\n",
    "# print(\n",
    "#     df[[\"Quarterly_Tax\", \"Tax_RangeCat\"]]\n",
    "#     .drop_duplicates()\n",
    "#     .sort_values(\"Quarterly_Tax\")\n",
    "#     .reset_index(drop=True)\n",
    "# )"
   ]
  },
  {
   "cell_type": "code",
   "execution_count": null,
   "id": "86a8e6f9",
   "metadata": {},
   "outputs": [],
   "source": [
    "# df"
   ]
  },
  {
   "cell_type": "code",
   "execution_count": null,
   "id": "d50b4732",
   "metadata": {},
   "outputs": [],
   "source": [
    "# # Primero ponemos las continuas en un nuevo DataFrame\n",
    "# df_toyota_continuas = df[continuous_features].copy()\n",
    "\n",
    "# # Ahora veremos BoxPlots e Histogramas con sus curva de densidad\n",
    "# histogram_por_lotes(df_toyota_continuas, 6)"
   ]
  },
  {
   "cell_type": "code",
   "execution_count": null,
   "id": "7715adfb",
   "metadata": {},
   "outputs": [],
   "source": [
    "# boxplots_por_lotes(df_toyota_continuas, 6)"
   ]
  },
  {
   "cell_type": "markdown",
   "id": "97dbe6eb",
   "metadata": {},
   "source": [
    "---\n",
    "\n",
    "### Price\n",
    "\n",
    "* **Distribución**: el histograma muestra una distribución con pico principal entre \\$8 000 y \\$12 000, con una larga cola hacia la derecha que llega hasta \\$30 000. La curva de densidad confirma ese sesgo positivo.\n",
    "* **Boxplot**: la mediana está cerca de \\$10 000; el IQR va aproximadamente de \\$8 000 a \\$12 000. Hay muchos valores atípicos por encima de \\$15 000, que corresponden a modelos o equipamientos premium.\n",
    "* **Interpretación**: la mayoría de los coches se cotizan en un rango estrecho, pero existen unos pocos vehículos de alto precio que inflan la cola, por lo que conviene una transformación (por ejemplo, log) o tratar outliers antes de modelar.\n",
    "\n",
    "---\n",
    "\n",
    "### Age_08_04\n",
    "\n",
    "- **Distribución**: el histograma es prácticamente creciente desde valores bajos hasta el máximo (\\~80), y la densidad señala que hay un acumulado mayor en edades altas. No es simétrica: hay más coches \"viejos\".\n",
    "- **Boxplot**: la mediana está en torno a 60–65, el IQR entre \\~50 y \\~70, con algunos autos muy recientes (cerca de 0) como outliers en la izquierda.\n",
    "- **Interpretación**: la flota tiende a concentrarse en edades entre 50 y 80 años (o unidades de medida), con pocos vehículos nuevos. Al modelar, podría ser útil agrupar edades muy bajas o muy altas o usar técnicas robustas a outliers.\n",
    "\n",
    "---\n",
    "\n",
    "### KM\n",
    "\n",
    "- **Distribución**: el histograma con KDE presenta un solo pico alrededor de 50 000–75 000 km y luego una cola larga hacia la derecha hasta >200 000 km.\n",
    "- **Boxplot**: la mediana se sitúa cerca de 75 000 km; el IQR va de \\~50 000 a \\~100 000 km. Varios outliers por encima de 150 000 km.\n",
    "- **Interpretación**: la mayoría de los vehículos tienen kilometrajes moderados, pero existe un subgrupo con uso intensivo. Para regresión podría convenir una transformación (raíz o log) y evaluar si recortar o imputar outliers.\n",
    "\n",
    "---\n",
    "\n",
    "### Weight\n",
    "\n",
    "- **Distribución**: el histograma muestra un pico muy marcado entre 1 000 y 1 100 kg, con una cola derecha que llega hasta 1 600 kg; la densidad refleja un sesgo ligero a la derecha.\n",
    "- **Boxplot**: la mediana ronda 1 050 kg, el IQR entre \\~1 015 y \\~1 100 kg, con algunos valores muy pesados como outliers.\n",
    "- **Interpretación**: el peso es bastante homogéneo (la mayoría alrededor de \\~1 050 kg), pero hay versiones más pesadas que conviene revisar (p. ej. carrocerías especiales o variante 4×4). Para modelar, quizá baste winsorizar esos pocos valores extremos.\n",
    "\n",
    "---\n",
    "\n",
    "**Resumen general**:\n",
    "\n",
    "- **Precio** y **KM** presentan sesgo positivo y varios outliers altos.\n",
    "- **Edad** está sesgada hacia valores altos, con pocos coches muy nuevos.\n",
    "- **Peso** es la más concentrada, aunque con alguna cola derecha.\n"
   ]
  },
  {
   "cell_type": "code",
   "execution_count": null,
   "id": "2595c806",
   "metadata": {},
   "outputs": [],
   "source": [
    "# # Variables enteras\n",
    "\n",
    "# df_toyota_enteras = df.copy()\n",
    "# df_toyota_enteras.drop(\n",
    "#     columns=[\n",
    "#         \"Price\",\n",
    "#         \"Quarterly_Tax\",\n",
    "#         \"Weight\",\n",
    "#         \"KM\",\n",
    "#         \"Mfr_Guarantee\",\n",
    "#         \"BOVAG_Guarantee\",\n",
    "#         \"ABS\",\n",
    "#         \"Airbag_1\",\n",
    "#         \"Airbag_2\",\n",
    "#         \"Airco\",\n",
    "#         \"Automatic_airco\",\n",
    "#         \"Boardcomputer\",\n",
    "#         \"CD_Player\",\n",
    "#         \"Central_Lock\",\n",
    "#         \"Met_Color\",\n",
    "#         \"Powered_Windows\",\n",
    "#         \"Power_Steering\",\n",
    "#         \"Radio\",\n",
    "#         \"Mistlamps\",\n",
    "#         \"Sport_Model\",\n",
    "#         \"Backseat_Divider\",\n",
    "#         \"Metallic_Rim\",\n",
    "#         \"Radio_cassette\",\n",
    "#         \"Tow_Bar\",\n",
    "#         \"Age_08_04_calculada\",\n",
    "#         \"Fuel_Type\",\n",
    "#         \"Automatic\",\n",
    "#     ],\n",
    "#     axis=1,\n",
    "#     inplace=True,\n",
    "#     errors=\"ignore\",  # Ignore if any column is missing\n",
    "# )"
   ]
  },
  {
   "cell_type": "code",
   "execution_count": null,
   "id": "8b63f762",
   "metadata": {},
   "outputs": [],
   "source": [
    "# df_toyota_enteras.describe().T"
   ]
  },
  {
   "cell_type": "code",
   "execution_count": null,
   "id": "d8c99ea3",
   "metadata": {},
   "outputs": [],
   "source": [
    "# bar_por_lotes(df_toyota_enteras, 3)"
   ]
  },
  {
   "cell_type": "markdown",
   "id": "c542b639",
   "metadata": {},
   "source": [
    "# Eliminación de outliers en Price\n"
   ]
  },
  {
   "cell_type": "code",
   "execution_count": null,
   "id": "f51d4f01",
   "metadata": {},
   "outputs": [],
   "source": [
    "# # Eliminacion de outliers y/o Transformacion para varibles continuas\n",
    "\n",
    "# histogram(df_toyota_continuas[\"Price\"])\n",
    "# boxplot(df_toyota_continuas[\"Price\"])"
   ]
  },
  {
   "cell_type": "markdown",
   "id": "f730779e",
   "metadata": {},
   "source": [
    "Dicha distribucion presenta una sesgo hacia la izquierda por lo tanto hay que eliminar esos outliers, como el histograma lo presenta vemos que es una distrubucion que se acerca mucho a una `distribucion normal` lo que haremos es eliminar los outliers con el metodo llamado `z-core`\n"
   ]
  },
  {
   "cell_type": "code",
   "execution_count": null,
   "id": "76c2d79b",
   "metadata": {},
   "outputs": [],
   "source": [
    "# price = df_toyota_continuas[\"Price\"].copy()\n",
    "# _, mask_price = limpiar_outliers_z_core(price)\n",
    "# price_limpio = price[mask_price]\n",
    "# histogram(price_limpio)\n",
    "# boxplot(price_limpio)\n",
    "\n",
    "# print(len(price) - len(price_limpio))\n",
    "\n",
    "# price_limpio_l, mask_price_l = limpiar_outliers_z_core(price_limpio)\n",
    "\n",
    "# histogram(price_limpio_l)\n",
    "\n",
    "# boxplot(price_limpio_l)\n",
    "\n",
    "# print(len(price_limpio) - len(price_limpio_l))"
   ]
  },
  {
   "cell_type": "markdown",
   "id": "55fc9b70",
   "metadata": {},
   "source": [
    "# Eliminación de outliers en KM\n"
   ]
  },
  {
   "cell_type": "code",
   "execution_count": null,
   "id": "423f85c6",
   "metadata": {},
   "outputs": [],
   "source": [
    "# histogram(df_toyota_continuas[\"KM\"])\n",
    "# boxplot(df_toyota_continuas[\"KM\"])"
   ]
  },
  {
   "cell_type": "markdown",
   "id": "160cab2c",
   "metadata": {},
   "source": [
    "dicha distribucion presenta una sesgo hacia la derecha por lo tanto hay que eliminar esos outliers, como el histograma lo presenta vemos que es una distribucion que se acerca mucho a una `distribucion normal` lo que haremos es eliminar los outliers con el metodo llamado `z-core`\n"
   ]
  },
  {
   "cell_type": "code",
   "execution_count": null,
   "id": "f80f37f3",
   "metadata": {},
   "outputs": [],
   "source": [
    "# km = df_toyota_continuas[\"KM\"].copy()\n",
    "# _, mask_km = limpiar_outliers_z_core(km)\n",
    "# km_limpio = km[mask_km]\n",
    "# histogram(km_limpio)\n",
    "# boxplot(km_limpio)\n",
    "# print(len(km) - len(km_limpio))"
   ]
  },
  {
   "cell_type": "markdown",
   "id": "30ecce45",
   "metadata": {},
   "source": [
    "# Eliminacion de outliers en Weight\n"
   ]
  },
  {
   "cell_type": "code",
   "execution_count": null,
   "id": "ce91ab6c",
   "metadata": {},
   "outputs": [],
   "source": [
    "# histogram(df_toyota_continuas[\"Price\"])\n",
    "# boxplot(df_toyota_continuas[\"Price\"])"
   ]
  },
  {
   "cell_type": "code",
   "execution_count": null,
   "id": "f8df887a",
   "metadata": {},
   "outputs": [],
   "source": [
    "# # 1. Copiar la serie de peso\n",
    "# peso = df_toyota_continuas[\"Weight\"].copy()\n",
    "\n",
    "# # 2. Obtener la máscara de valores válidos con tu función de Z-score\n",
    "# _, mask_peso = limpiar_outliers_z_core(peso)\n",
    "\n",
    "# # 3. Filtrar los datos limpios\n",
    "# peso_limpio = peso[mask_peso]\n",
    "\n",
    "# # 4. Visualizar distribución y outliers\n",
    "# histogram(peso_limpio)\n",
    "# boxplot(peso_limpio)\n",
    "\n",
    "# # 5. Imprimir cuántos registros se eliminaron\n",
    "# print(f\"Registros removidos: {len(peso) - len(peso_limpio)}\")"
   ]
  },
  {
   "cell_type": "markdown",
   "id": "d1c6983e",
   "metadata": {},
   "source": [
    "# Eliminacion de outliers en Age\n"
   ]
  },
  {
   "cell_type": "code",
   "execution_count": null,
   "id": "a59041c7",
   "metadata": {},
   "outputs": [],
   "source": [
    "# histogram(df_toyota_continuas[\"Age_08_04\"])\n",
    "# boxplot(df_toyota_continuas[\"Age_08_04\"])"
   ]
  },
  {
   "cell_type": "markdown",
   "id": "738d83e7",
   "metadata": {},
   "source": [
    "# Analisis Bivariado con dataframe original\n"
   ]
  },
  {
   "cell_type": "code",
   "execution_count": null,
   "id": "323b215f",
   "metadata": {},
   "outputs": [],
   "source": [
    "# from sklearn.preprocessing import LabelEncoder\n",
    "\n",
    "# df[\"fuel_type_encoded\"] = LabelEncoder().fit_transform(df[\"Fuel_Type\"])"
   ]
  },
  {
   "cell_type": "code",
   "execution_count": null,
   "id": "12d2b4be",
   "metadata": {},
   "outputs": [],
   "source": [
    "# matriza = mostrar_matriz_correlacion(df)"
   ]
  },
  {
   "cell_type": "markdown",
   "id": "4fd19a98",
   "metadata": {},
   "source": [
    "Price vs. Mfg_Year (r ≈ +0.89)\n",
    "\n",
    "Los autos más nuevos (año de fabricación alto) tienden a tener precios más elevados. Cada año adicional aumenta fuertemente el valor.\n",
    "\n",
    "Price vs. Age_08_04 (r ≈ –0.88)\n",
    "\n",
    "Edad y precio son espejo: a más antigüedad (edad alta) el precio baja. Cada unidad de edad adicional desploma el valor de manera proporcional.\n",
    "\n",
    "Mfg_Year vs. Age_08_04 (r ≈ –0.98)\n",
    "\n",
    "Lógicamente inversas: un coche más nuevo (año alto) tiene poca “edad” registrada.\n",
    "\n",
    "Quarterly_Tax vs. Tax_RangeCat (r ≈ +0.93)\n",
    "\n",
    "El impuesto trimestral está prácticamente definido por la categoría de rango fiscal; son casi sinónimos cuantitativos.\n",
    "\n",
    "Airco vs. Automatic_airco (r ≈ +0.72)\n",
    "\n",
    "Tener aire acondicionado se superpone en gran medida con la versión “automática” de ese aire, indica redundancia de ambas variables.\n",
    "\n",
    "Boardcomputer vs. Mfg_Year (r ≈ +0.72)\n",
    "\n",
    "Los coches más modernos casi siempre traen ordenador de a bordo, reflejando que ese equipamiento se incorporó en modelos recientes.\n",
    "\n",
    "Central_Lock vs. Powered_Windows (r ≈ +0.88)\n",
    "\n",
    "El cierre centralizado y las ventanillas eléctricas suelen venir juntos en el mismo nivel de acabado.\n",
    "\n",
    "Radio vs. Radio_cassette (r ≈ +0.99)\n",
    "\n",
    "HP vs. Mfg_Year (r ≈ +0.72)\n",
    "Modelos más nuevos tienden a tener más potencia; esta alta colinealidad puede inflar la varianza de los coeficientes si ambas variables entran al mismo tiempo.\n",
    "\n",
    "Casi todos los coches con radio incorporan también reproductor de casete; las dos variables miden esencialmente el mismo equipamiento.\n"
   ]
  },
  {
   "cell_type": "code",
   "execution_count": null,
   "id": "237a2fe8",
   "metadata": {},
   "outputs": [],
   "source": [
    "# # Realizamos feature selection de acuerdo a la alta correlacion\n",
    "# cols_to_drop = [\n",
    "#     \"Mfg_Year\",\n",
    "#     \"Age_08_04\",\n",
    "#     \"Tax_RangeCat\",\n",
    "#     \"Automatic_airco\",\n",
    "#     \"Boardcomputer\",\n",
    "#     \"Powered_Windows\",\n",
    "#     \"Radio_cassette\",\n",
    "#     \"Fuel_Type\",\n",
    "#     \"Quarterly_Tax\",\n",
    "#     \"BOVAG_Guarantee\",\n",
    "#     \"Duplicado_de\",\n",
    "# ]\n",
    "\n",
    "# df_clean = df.drop(columns=cols_to_drop)\n",
    "# df_clean"
   ]
  },
  {
   "cell_type": "code",
   "execution_count": null,
   "id": "c2791504",
   "metadata": {},
   "outputs": [],
   "source": [
    "# matriz = mostrar_matriz_correlacion(df_clean)"
   ]
  },
  {
   "cell_type": "code",
   "execution_count": null,
   "id": "4488a842",
   "metadata": {},
   "outputs": [],
   "source": [
    "# df.columnas"
   ]
  },
  {
   "cell_type": "code",
   "execution_count": null,
   "id": "a81636e9",
   "metadata": {},
   "outputs": [],
   "source": [
    "# df.dtypes"
   ]
  },
  {
   "cell_type": "code",
   "execution_count": null,
   "id": "74a4881c",
   "metadata": {},
   "outputs": [],
   "source": [
    "# from pathlib import Path\n",
    "\n",
    "\n",
    "# clean_path = Path(\"data/clean_df.csv\").resolve()\n",
    "# df_clean.to_csv(clean_path, index=False)\n",
    "# clean_path"
   ]
  }
 ],
 "metadata": {
  "kernelspec": {
   "display_name": "parcial_toyota",
   "language": "python",
   "name": "python3"
  },
  "language_info": {
   "codemirror_mode": {
    "name": "ipython",
    "version": 3
   },
   "file_extension": ".py",
   "mimetype": "text/x-python",
   "name": "python",
   "nbconvert_exporter": "python",
   "pygments_lexer": "ipython3",
   "version": "3.11.11"
  }
 },
 "nbformat": 4,
 "nbformat_minor": 5
}
